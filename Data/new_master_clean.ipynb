{
 "cells": [
  {
   "cell_type": "markdown",
   "id": "757d15c5",
   "metadata": {},
   "source": [
    "# Import modules"
   ]
  },
  {
   "cell_type": "code",
   "execution_count": 134,
   "id": "4c5cf1af",
   "metadata": {},
   "outputs": [],
   "source": [
    "#import modules\n",
    "import pandas as pd\n",
    "import numpy as np\n",
    "import matplotlib.pyplot as plt\n",
    "import datetime\n",
    "import warnings\n",
    "warnings.filterwarnings(\"ignore\")"
   ]
  },
  {
   "cell_type": "markdown",
   "id": "5442f98a",
   "metadata": {},
   "source": [
    "# Sales"
   ]
  },
  {
   "cell_type": "markdown",
   "id": "cc3a2e40",
   "metadata": {},
   "source": [
    "## Import"
   ]
  },
  {
   "cell_type": "code",
   "execution_count": 135,
   "id": "cfa73db0",
   "metadata": {},
   "outputs": [
    {
     "name": "stdout",
     "output_type": "stream",
     "text": [
      "(110226, 21)\n"
     ]
    },
    {
     "data": {
      "text/plain": [
       "Index(['BOROUGH', 'NEIGHBORHOOD', 'BUILDING CLASS CATEGORY',\n",
       "       'TAX CLASS AT PRESENT', 'BLOCK', 'LOT', 'EASE-MENT',\n",
       "       'BUILDING CLASS AT PRESENT', 'ADDRESS', 'APARTMENT NUMBER', 'ZIP CODE',\n",
       "       'RESIDENTIAL\\nUNITS', 'COMMERCIAL\\nUNITS', 'TOTAL \\nUNITS',\n",
       "       'LAND \\nSQUARE FEET', 'GROSS \\nSQUARE FEET', 'YEAR BUILT',\n",
       "       'TAX CLASS AT TIME OF SALE', 'BUILDING CLASS\\nAT TIME OF SALE',\n",
       "       'SALE PRICE', 'SALE DATE'],\n",
       "      dtype='object', name=0)"
      ]
     },
     "execution_count": 135,
     "metadata": {},
     "output_type": "execute_result"
    }
   ],
   "source": [
    "import pandas as pd\n",
    "import numpy as np\n",
    "\n",
    "#read in sales data, already subsetted to include Manhattan only\n",
    "sales17 = pd.read_csv(\"INPUT_nycod/2017_manhattan.csv\", skiprows=5, header=None).dropna(how='all')\n",
    "sales18 = pd.read_csv(\"INPUT_nycod/2018_manhattan.csv\", skiprows=5, header=None).dropna(how='all')\n",
    "sales19 = pd.read_csv(\"INPUT_nycod/2019_manhattan.csv\", skiprows=5, header=None).dropna(how='all')\n",
    "sales20 = pd.read_csv(\"INPUT_nycod/2020_manhattan.csv\", skiprows=7, header=None).dropna(how='all')\n",
    "sales21 = pd.read_csv(\"INPUT_nycod/2021_manhattan.csv\", skiprows=7, header=None).dropna(how='all')\n",
    "sales22 = pd.read_csv(\"INPUT_nycod/rollingsales_manhattan.csv\", skiprows=1, header=None).dropna(how='all')\n",
    "\n",
    "#concatenate all dfs, check shape\n",
    "allsales = pd.concat((sales17, sales18, sales19, sales20, sales21, sales22), axis=0)\n",
    "allsales = allsales.iloc[:,0:21]\n",
    "print(allsales.shape)\n",
    "\n",
    "#add labels\n",
    "labels = pd.DataFrame(pd.read_csv(\"INPUT_nycod/2021_manhattan.csv\", header=6).columns).T\n",
    "allsales = pd.concat((labels, allsales), axis=0)\n",
    "allsales.columns = allsales.iloc[0] \n",
    "sales = allsales[1:]\n",
    "sales.columns"
   ]
  },
  {
   "cell_type": "markdown",
   "id": "94d867ac",
   "metadata": {},
   "source": [
    "## Select cols for subsetting"
   ]
  },
  {
   "cell_type": "code",
   "execution_count": 136,
   "id": "c539561a",
   "metadata": {},
   "outputs": [
    {
     "data": {
      "text/plain": [
       "(110226, 10)"
      ]
     },
     "execution_count": 136,
     "metadata": {},
     "output_type": "execute_result"
    }
   ],
   "source": [
    "sales = sales[['BLOCK',\n",
    "                'LOT',\n",
    "                'ADDRESS',\n",
    "                'RESIDENTIAL\\nUNITS',\n",
    "                'COMMERCIAL\\nUNITS',\n",
    "                'LAND \\nSQUARE FEET',\n",
    "                'GROSS \\nSQUARE FEET',\n",
    "                'YEAR BUILT',\n",
    "                'SALE DATE',\n",
    "                'SALE PRICE']]\n",
    "\n",
    "#rename columns for interpretability\n",
    "col_mapper = {'RESIDENTIAL\\nUNITS':'units_residential',\n",
    "             'COMMERCIAL\\nUNITS':'units_commercial',\n",
    "             'BLOCK': 'block_sales',\n",
    "             'LOT': 'lot_sales',\n",
    "             'ADDRESS': 'address_sales'}\n",
    "sales = sales.rename(mapper=col_mapper, axis=1)\n",
    "\n",
    "sales.shape"
   ]
  },
  {
   "cell_type": "markdown",
   "id": "77fa3212",
   "metadata": {},
   "source": [
    "## Dtype handling"
   ]
  },
  {
   "cell_type": "code",
   "execution_count": 137,
   "id": "a0bd5831",
   "metadata": {},
   "outputs": [
    {
     "data": {
      "text/plain": [
       "0\n",
       "block_sales            object\n",
       "lot_sales              object\n",
       "address_sales          object\n",
       "units_residential      object\n",
       "units_commercial       object\n",
       "LAND \\nSQUARE FEET     object\n",
       "GROSS \\nSQUARE FEET    object\n",
       "YEAR BUILT             object\n",
       "SALE DATE              object\n",
       "SALE PRICE             object\n",
       "dtype: object"
      ]
     },
     "execution_count": 137,
     "metadata": {},
     "output_type": "execute_result"
    }
   ],
   "source": [
    "sales.dtypes"
   ]
  },
  {
   "cell_type": "code",
   "execution_count": 138,
   "id": "8897c639",
   "metadata": {},
   "outputs": [
    {
     "data": {
      "text/plain": [
       "Index(['block_sales', 'lot_sales', 'address_sales', 'units_residential',\n",
       "       'units_commercial', 'saleprice', 'year_sold', 'years_elapsed', 'FAR'],\n",
       "      dtype='object', name=0)"
      ]
     },
     "execution_count": 138,
     "metadata": {},
     "output_type": "execute_result"
    }
   ],
   "source": [
    "#clean sale price\n",
    "prices = []\n",
    "for i in sales['SALE PRICE']:\n",
    "    prices.append(float(i.replace(\",\", \"\").replace(\"'\", \"\").replace(\"$\", \"\")))\n",
    "sales['saleprice'] = prices\n",
    "\n",
    "#clean sale date -> year sold, years elapsed\n",
    "import datetime\n",
    "dates = []\n",
    "for i in sales['SALE DATE']:\n",
    "    dates.append(datetime.datetime.strptime(i, \"%m/%d/%Y\"))\n",
    "sales['saledate'] = dates\n",
    "years = []\n",
    "for i in sales['SALE DATE']:\n",
    "    years.append(int(i[-4:]))\n",
    "sales['year_sold'] = years\n",
    "sales['years_elapsed'] = sales.year_sold - sales['YEAR BUILT']\n",
    "\n",
    "#calculate FAR\n",
    "gross_sqft = []\n",
    "for i in sales['GROSS \\nSQUARE FEET']:\n",
    "    try:\n",
    "        gross_sqft.append(int(i.replace(\",\", \"\").replace(\"'\", \"\").replace(\"-\", \"\").replace(\" \", \"\")))\n",
    "    except:\n",
    "        gross_sqft.append(0)\n",
    "sales['gross_sqft'] = gross_sqft\n",
    "land_sqft = []\n",
    "for i in sales['LAND \\nSQUARE FEET']:\n",
    "    try:\n",
    "        land_sqft.append(int(i.replace(\",\", \"\").replace(\"'\", \"\").replace(\"-\", \"\").replace(\" \", \"\")))\n",
    "    except:\n",
    "        land_sqft.append(0)\n",
    "sales['land_sqft'] = land_sqft\n",
    "sales['FAR'] = sales['gross_sqft'] / sales['land_sqft']\n",
    "\n",
    "#change dtypes\n",
    "sales.block_sales = sales.block_sales.astype(np.int64)\n",
    "sales.lot_sales = sales.lot_sales.astype(np.int64)\n",
    "sales.units_commercial = pd.to_numeric(sales.units_commercial.replace(',',''), errors='coerce')\n",
    "sales.units_residential = pd.to_numeric(sales.units_residential.replace(',',''), errors='coerce')\n",
    "\n",
    "#drop columns only used for calc\n",
    "sales = sales.drop(columns=['SALE PRICE',\n",
    "                           'YEAR BUILT',\n",
    "                           'SALE DATE',\n",
    "                           'GROSS \\nSQUARE FEET',\n",
    "                           'LAND \\nSQUARE FEET',\n",
    "                           'gross_sqft',\n",
    "                           'land_sqft',\n",
    "                           'saledate'])\n",
    "sales.columns"
   ]
  },
  {
   "cell_type": "markdown",
   "id": "4d81c7c0",
   "metadata": {},
   "source": [
    "## Visualize rows to be dropped: sale price == 0, res units == NaN"
   ]
  },
  {
   "cell_type": "code",
   "execution_count": 139,
   "id": "3cec048b",
   "metadata": {},
   "outputs": [
    {
     "name": "stdout",
     "output_type": "stream",
     "text": [
      "total observations: 110226\n",
      "non-sale transfers (sale price 0): 21787\n",
      "sales (sale price > 0): 88439\n"
     ]
    },
    {
     "data": {
      "image/png": "[encoded data removed]",
      "text/plain": [
       "<Figure size 432x288 with 1 Axes>"
      ]
     },
     "metadata": {
      "needs_background": "light"
     },
     "output_type": "display_data"
    }
   ],
   "source": [
    "#FOR VIZ ONLY\n",
    "#missing sale price\n",
    "print(\"total observations: {}\".format(len(sales)))\n",
    "print(\"non-sale transfers (sale price 0): {}\".format(len(sales[sales['saleprice'] == 0])))\n",
    "print(\"sales (sale price > 0): {}\".format(len(sales[sales['saleprice'] > 0])))\n",
    "\n",
    "import matplotlib.pyplot as plt\n",
    "plt.hist(sales[sales.saleprice > 0].year_sold, alpha=0.5, color='lightblue', label='Sales', bins=6)\n",
    "plt.hist(sales[sales.saleprice == 0].year_sold, alpha=0.5, color='darkblue', label='Non-sale transfers', bins=6)\n",
    "plt.legend()\n",
    "plt.title('Frequency of property sales vs. non-sale transfers')\n",
    "plt.xlabel('Transaction year')\n",
    "plt.ylabel('Number of transactions')\n",
    "plt.savefig('OUTPUT_visualizations/1.Sales vs. non-sale transfers.png')\n",
    "plt.show()"
   ]
  },
  {
   "cell_type": "code",
   "execution_count": 140,
   "id": "f6dd15e8",
   "metadata": {},
   "outputs": [],
   "source": [
    "#SUBSET DATA\n",
    "sales = sales[sales['saleprice'] > 1]\n",
    "\n",
    "#after removing zeros\n",
    "sales['log_saleprice'] = np.log(sales.saleprice)\n",
    "sales = sales.drop(columns=['saleprice'])"
   ]
  },
  {
   "cell_type": "code",
   "execution_count": 141,
   "id": "211be12b",
   "metadata": {},
   "outputs": [
    {
     "data": {
      "text/plain": [
       "(88224, 9)"
      ]
     },
     "execution_count": 141,
     "metadata": {},
     "output_type": "execute_result"
    }
   ],
   "source": [
    "sales.shape"
   ]
  },
  {
   "cell_type": "code",
   "execution_count": 142,
   "id": "4c7172db",
   "metadata": {},
   "outputs": [
    {
     "data": {
      "image/png": "[encoded data removed]",
      "text/plain": [
       "<Figure size 576x576 with 1 Axes>"
      ]
     },
     "metadata": {
      "needs_background": "light"
     },
     "output_type": "display_data"
    }
   ],
   "source": [
    "#FOR VIZ ONLY\n",
    "#dates of missing and nonmissing residential units\n",
    "\n",
    "a = sales[sales['units_residential']>=-1]\n",
    "b = sales[sales['units_residential'].isna() == True]\n",
    "\n",
    "plt.figure(figsize=(8,8))\n",
    "plt.hist(a.year_sold+0.1, label='Res units entered (incl. 0)', color='lightgreen', width=0.2)\n",
    "plt.hist(b.year_sold-0.1, label='Res units missing', color='blue', width=0.2)\n",
    "plt.xlabel('Year sold')\n",
    "plt.ylabel('Frequency')\n",
    "plt.legend()\n",
    "plt.savefig('OUTPUT_visualizations/resunitsmissing.png')\n",
    "plt.show()"
   ]
  },
  {
   "cell_type": "markdown",
   "id": "5b0db738",
   "metadata": {},
   "source": [
    "# PLUTO"
   ]
  },
  {
   "cell_type": "markdown",
   "id": "8e58d8ea",
   "metadata": {},
   "source": [
    "## Import"
   ]
  },
  {
   "cell_type": "code",
   "execution_count": 143,
   "id": "6a326572",
   "metadata": {},
   "outputs": [
    {
     "data": {
      "text/plain": [
       "Index(['borough', 'block', 'lot', 'cd', 'bct2020', 'bctcb2020', 'ct2010',\n",
       "       'cb2010', 'schooldist', 'council', 'zipcode', 'firecomp', 'policeprct',\n",
       "       'healthcenterdistrict', 'healtharea', 'sanitboro', 'sanitdistrict',\n",
       "       'sanitsub', 'address', 'zonedist1', 'zonedist2', 'zonedist3',\n",
       "       'zonedist4', 'overlay1', 'overlay2', 'spdist1', 'spdist2', 'spdist3',\n",
       "       'ltdheight', 'splitzone', 'bldgclass', 'landuse', 'easements',\n",
       "       'ownertype', 'ownername', 'lotarea', 'bldgarea', 'comarea', 'resarea',\n",
       "       'officearea', 'retailarea', 'garagearea', 'strgearea', 'factryarea',\n",
       "       'otherarea', 'areasource', 'numbldgs', 'numfloors', 'unitsres',\n",
       "       'unitstotal', 'lotfront', 'lotdepth', 'bldgfront', 'bldgdepth', 'ext',\n",
       "       'proxcode', 'irrlotcode', 'lottype', 'bsmtcode', 'assessland',\n",
       "       'assesstot', 'exempttot', 'yearbuilt', 'yearalter1', 'yearalter2',\n",
       "       'histdist', 'landmark', 'builtfar', 'residfar', 'commfar', 'facilfar',\n",
       "       'borocode', 'bbl', 'condono', 'tract2010', 'xcoord', 'ycoord',\n",
       "       'zonemap', 'zmcode', 'sanborn', 'taxmap', 'edesignum', 'appbbl',\n",
       "       'appdate', 'plutomapid', 'firm07_flag', 'pfirm15_flag', 'version',\n",
       "       'dcpedited', 'latitude', 'longitude', 'notes'],\n",
       "      dtype='object')"
      ]
     },
     "execution_count": 143,
     "metadata": {},
     "output_type": "execute_result"
    }
   ],
   "source": [
    "pluto = pd.read_csv(\"INPUT_pluto/pluto_22v3_1.csv\", low_memory=False)\n",
    "pluto.columns"
   ]
  },
  {
   "cell_type": "markdown",
   "id": "73b5a77f",
   "metadata": {},
   "source": [
    "## Select cols for subsetting"
   ]
  },
  {
   "cell_type": "code",
   "execution_count": 144,
   "id": "4b4a3d74",
   "metadata": {},
   "outputs": [],
   "source": [
    "#subset to include Manhattan only\n",
    "pluto = pluto[pluto['borough']=='MN']\n",
    "pluto = pluto[['block',\n",
    "              'lot',\n",
    "               'address',\n",
    "               'ltdheight',\n",
    "              'splitzone',\n",
    "              'histdist',\n",
    "              'landmark',\n",
    "              'bldgarea',\n",
    "              'lotarea',\n",
    "              'latitude',\n",
    "              'longitude',\n",
    "              'yearalter1',\n",
    "              'yearalter2',\n",
    "              'numbldgs',\n",
    "              'numfloors']]\n",
    "\n",
    "#rename columns for interpretability\n",
    "col_mapper = {'block': 'block_pluto',\n",
    "             'lot': 'lot_pluto',\n",
    "             'address': 'address_pluto'}\n",
    "pluto = pluto.rename(mapper=col_mapper, axis=1)"
   ]
  },
  {
   "cell_type": "code",
   "execution_count": 40,
   "id": "56bddfc6",
   "metadata": {},
   "outputs": [
    {
     "data": {
      "text/plain": [
       "(42695, 15)"
      ]
     },
     "execution_count": 40,
     "metadata": {},
     "output_type": "execute_result"
    }
   ],
   "source": [
    "pluto.shape"
   ]
  },
  {
   "cell_type": "markdown",
   "id": "95d75a2a",
   "metadata": {},
   "source": [
    "## Dtype handling"
   ]
  },
  {
   "cell_type": "code",
   "execution_count": 145,
   "id": "748fda6f",
   "metadata": {},
   "outputs": [
    {
     "data": {
      "text/plain": [
       "Index(['block_pluto', 'lot_pluto', 'address_pluto', 'latitude', 'longitude',\n",
       "       'yearalter1', 'yearalter2', 'numbldgs', 'numfloors', 'BCR',\n",
       "       'bin_ltdheight', 'bin_splitzone', 'bin_histdist', 'bin_landmark'],\n",
       "      dtype='object')"
      ]
     },
     "execution_count": 145,
     "metadata": {},
     "output_type": "execute_result"
    }
   ],
   "source": [
    "#create BCR variable\n",
    "pluto['BCR'] = pluto['bldgarea'] / pluto['lotarea']\n",
    "\n",
    "#create binary variables\n",
    "bin_cols = ['ltdheight', 'splitzone', 'histdist', 'landmark']\n",
    "pluto['bin_ltdheight'] = abs(1-(pluto.ltdheight.isna()))\n",
    "pluto['bin_splitzone'] = abs(1-(pluto.splitzone.isna()))\n",
    "pluto['bin_histdist'] = abs(1-(pluto.histdist.isna()))\n",
    "pluto['bin_landmark'] = abs(1-(pluto.landmark.isna()))\n",
    "\n",
    "#drop cols only used for calc\n",
    "pluto = pluto.drop(columns=['bldgarea',\n",
    "                           'lotarea',\n",
    "                           'ltdheight',\n",
    "                           'histdist',\n",
    "                           'landmark',\n",
    "                           'splitzone'])\n",
    "pluto.columns"
   ]
  },
  {
   "cell_type": "markdown",
   "id": "b6c403c4",
   "metadata": {},
   "source": [
    "# Merge sales and pluto"
   ]
  },
  {
   "cell_type": "code",
   "execution_count": 146,
   "id": "e25cce46",
   "metadata": {},
   "outputs": [],
   "source": [
    "pluto = pluto[pluto.block_pluto < pluto.block_pluto.max()]"
   ]
  },
  {
   "cell_type": "code",
   "execution_count": 147,
   "id": "018f0c36",
   "metadata": {},
   "outputs": [
    {
     "data": {
      "image/png": "[encoded data removed]",
      "text/plain": [
       "<Figure size 576x432 with 1 Axes>"
      ]
     },
     "metadata": {
      "needs_background": "light"
     },
     "output_type": "display_data"
    }
   ],
   "source": [
    "# Merge NYCOD and PLUTO\n",
    "import matplotlib.pyplot as plt\n",
    "plt.figure(figsize=(8, 6))\n",
    "plt.scatter(pluto.block_pluto, pluto.lot_pluto, label='BBL-PLUTO', color='red')\n",
    "plt.scatter(sales.block_sales, sales.lot_sales, label='BBL-Sales', color='yellow', alpha=0.1, marker='x')\n",
    "plt.xlabel('Block code')\n",
    "plt.ylabel('Lot code')\n",
    "plt.title('Block-Lot codes included in PLUTO')\n",
    "plt.legend()\n",
    "plt.savefig('OUTPUT_visualizations/3.Borough-Lot coverage.png')\n",
    "plt.show()"
   ]
  },
  {
   "cell_type": "code",
   "execution_count": 148,
   "id": "f57b76e3",
   "metadata": {},
   "outputs": [
    {
     "name": "stdout",
     "output_type": "stream",
     "text": [
      "88224 total sales\n",
      "43666 matched on BBL\n",
      "18471 matched on address\n",
      "26087 unmatched (29.569% of total)\n",
      "shape of final df: (62137, 19)\n"
     ]
    }
   ],
   "source": [
    "# join based on BBL\n",
    "df_1 = sales.merge(pluto, how='left', left_on=['block_sales', 'lot_sales'], right_on=['block_pluto', 'lot_pluto'])\n",
    "\n",
    "#join based on address\n",
    "#isolate transactions that were not matched before\n",
    "missed = df_1[df_1['latitude'].isna() == True].iloc[:,:10]\n",
    "#clean address text\n",
    "addresses = []\n",
    "for i in missed.address_sales:\n",
    "    addresses.append(i.split(',')[0])\n",
    "missed['address_clean'] = addresses\n",
    "#merge on address\n",
    "df_2 = missed.merge(pluto, how='left', left_on=['address_clean'], right_on=['address_pluto'])\n",
    "\n",
    "#save out unmatched cells for later\n",
    "unmatched_df = df_2[df_2.latitude.isna() == True].drop(columns=['address_clean', 'address_sales', 'address_pluto'])\n",
    "\n",
    "#quantify\n",
    "df_1 = df_1[df_1.latitude.isna() == False].drop(columns=['address_sales', 'address_pluto'])\n",
    "df_2 = df_2[df_2.latitude.isna() == False].drop(columns=['address_clean', 'address_sales', 'address_pluto'])\n",
    "\n",
    "len_all = len(sales)\n",
    "len_bbl = len(df_1)\n",
    "len_add = len(df_2)\n",
    "\n",
    "print('{} total sales'.format(len_all))\n",
    "print('{} matched on BBL'.format(len_bbl))\n",
    "print('{} matched on address'.format(len_add))\n",
    "print('{} unmatched ({:.3f}% of total)'.format((len_all - len_bbl - len_add), (100*(len_all - len_bbl - len_add)/len_all)))\n",
    "\n",
    "#final df\n",
    "df = pd.concat((df_1, df_2), axis=0)\n",
    "df = df.drop(columns=['block_sales', 'lot_sales', 'block_pluto', 'lot_pluto'])\n",
    "df.columns.sort_values()\n",
    "#drop empty\n",
    "df = df.dropna(how='all', axis=1)\n",
    "df = df.dropna(how='all', axis=0)\n",
    "print('shape of final df: {}'.format(df.shape))\n",
    "\n",
    "df.to_csv('OUTPUT_cleandata/df_clean.csv')"
   ]
  },
  {
   "cell_type": "code",
   "execution_count": 150,
   "id": "ce057a2e",
   "metadata": {},
   "outputs": [],
   "source": [
    "df = df.drop(columns=['block_pluto_x', 'block_pluto_y'])"
   ]
  },
  {
   "cell_type": "code",
   "execution_count": 151,
   "id": "40dc6898",
   "metadata": {},
   "outputs": [],
   "source": [
    "unmatched_df = unmatched_df.drop(columns=['block_pluto_x', 'block_pluto_y', 'block_sales', 'lot_sales'])"
   ]
  },
  {
   "cell_type": "code",
   "execution_count": 152,
   "id": "9706d4fe",
   "metadata": {},
   "outputs": [
    {
     "ename": "KeyError",
     "evalue": "\"['block_sales', 'lot_sales'] not found in axis\"",
     "output_type": "error",
     "traceback": [
      "\u001b[1;31m---------------------------------------------------------------------------\u001b[0m",
      "\u001b[1;31mKeyError\u001b[0m                                  Traceback (most recent call last)",
      "Input \u001b[1;32mIn [152]\u001b[0m, in \u001b[0;36m<cell line: 1>\u001b[1;34m()\u001b[0m\n\u001b[1;32m----> 1\u001b[0m unmatched_df \u001b[38;5;241m=\u001b[39m \u001b[43munmatched_df\u001b[49m\u001b[38;5;241;43m.\u001b[39;49m\u001b[43mdrop\u001b[49m\u001b[43m(\u001b[49m\u001b[43mcolumns\u001b[49m\u001b[38;5;241;43m=\u001b[39;49m\u001b[43m[\u001b[49m\u001b[38;5;124;43m'\u001b[39;49m\u001b[38;5;124;43mblock_sales\u001b[39;49m\u001b[38;5;124;43m'\u001b[39;49m\u001b[43m,\u001b[49m\u001b[43m \u001b[49m\u001b[38;5;124;43m'\u001b[39;49m\u001b[38;5;124;43mlot_sales\u001b[39;49m\u001b[38;5;124;43m'\u001b[39;49m\u001b[43m]\u001b[49m\u001b[43m)\u001b[49m\n",
      "File \u001b[1;32m~\\anaconda3\\lib\\site-packages\\pandas\\util\\_decorators.py:311\u001b[0m, in \u001b[0;36mdeprecate_nonkeyword_arguments.<locals>.decorate.<locals>.wrapper\u001b[1;34m(*args, **kwargs)\u001b[0m\n\u001b[0;32m    305\u001b[0m \u001b[38;5;28;01mif\u001b[39;00m \u001b[38;5;28mlen\u001b[39m(args) \u001b[38;5;241m>\u001b[39m num_allow_args:\n\u001b[0;32m    306\u001b[0m     warnings\u001b[38;5;241m.\u001b[39mwarn(\n\u001b[0;32m    307\u001b[0m         msg\u001b[38;5;241m.\u001b[39mformat(arguments\u001b[38;5;241m=\u001b[39marguments),\n\u001b[0;32m    308\u001b[0m         \u001b[38;5;167;01mFutureWarning\u001b[39;00m,\n\u001b[0;32m    309\u001b[0m         stacklevel\u001b[38;5;241m=\u001b[39mstacklevel,\n\u001b[0;32m    310\u001b[0m     )\n\u001b[1;32m--> 311\u001b[0m \u001b[38;5;28;01mreturn\u001b[39;00m func(\u001b[38;5;241m*\u001b[39margs, \u001b[38;5;241m*\u001b[39m\u001b[38;5;241m*\u001b[39mkwargs)\n",
      "File \u001b[1;32m~\\anaconda3\\lib\\site-packages\\pandas\\core\\frame.py:4954\u001b[0m, in \u001b[0;36mDataFrame.drop\u001b[1;34m(self, labels, axis, index, columns, level, inplace, errors)\u001b[0m\n\u001b[0;32m   4806\u001b[0m \u001b[38;5;129m@deprecate_nonkeyword_arguments\u001b[39m(version\u001b[38;5;241m=\u001b[39m\u001b[38;5;28;01mNone\u001b[39;00m, allowed_args\u001b[38;5;241m=\u001b[39m[\u001b[38;5;124m\"\u001b[39m\u001b[38;5;124mself\u001b[39m\u001b[38;5;124m\"\u001b[39m, \u001b[38;5;124m\"\u001b[39m\u001b[38;5;124mlabels\u001b[39m\u001b[38;5;124m\"\u001b[39m])\n\u001b[0;32m   4807\u001b[0m \u001b[38;5;28;01mdef\u001b[39;00m \u001b[38;5;21mdrop\u001b[39m(\n\u001b[0;32m   4808\u001b[0m     \u001b[38;5;28mself\u001b[39m,\n\u001b[1;32m   (...)\u001b[0m\n\u001b[0;32m   4815\u001b[0m     errors: \u001b[38;5;28mstr\u001b[39m \u001b[38;5;241m=\u001b[39m \u001b[38;5;124m\"\u001b[39m\u001b[38;5;124mraise\u001b[39m\u001b[38;5;124m\"\u001b[39m,\n\u001b[0;32m   4816\u001b[0m ):\n\u001b[0;32m   4817\u001b[0m     \u001b[38;5;124;03m\"\"\"\u001b[39;00m\n\u001b[0;32m   4818\u001b[0m \u001b[38;5;124;03m    Drop specified labels from rows or columns.\u001b[39;00m\n\u001b[0;32m   4819\u001b[0m \n\u001b[1;32m   (...)\u001b[0m\n\u001b[0;32m   4952\u001b[0m \u001b[38;5;124;03m            weight  1.0     0.8\u001b[39;00m\n\u001b[0;32m   4953\u001b[0m \u001b[38;5;124;03m    \"\"\"\u001b[39;00m\n\u001b[1;32m-> 4954\u001b[0m     \u001b[38;5;28;01mreturn\u001b[39;00m \u001b[38;5;28;43msuper\u001b[39;49m\u001b[43m(\u001b[49m\u001b[43m)\u001b[49m\u001b[38;5;241;43m.\u001b[39;49m\u001b[43mdrop\u001b[49m\u001b[43m(\u001b[49m\n\u001b[0;32m   4955\u001b[0m \u001b[43m        \u001b[49m\u001b[43mlabels\u001b[49m\u001b[38;5;241;43m=\u001b[39;49m\u001b[43mlabels\u001b[49m\u001b[43m,\u001b[49m\n\u001b[0;32m   4956\u001b[0m \u001b[43m        \u001b[49m\u001b[43maxis\u001b[49m\u001b[38;5;241;43m=\u001b[39;49m\u001b[43maxis\u001b[49m\u001b[43m,\u001b[49m\n\u001b[0;32m   4957\u001b[0m \u001b[43m        \u001b[49m\u001b[43mindex\u001b[49m\u001b[38;5;241;43m=\u001b[39;49m\u001b[43mindex\u001b[49m\u001b[43m,\u001b[49m\n\u001b[0;32m   4958\u001b[0m \u001b[43m        \u001b[49m\u001b[43mcolumns\u001b[49m\u001b[38;5;241;43m=\u001b[39;49m\u001b[43mcolumns\u001b[49m\u001b[43m,\u001b[49m\n\u001b[0;32m   4959\u001b[0m \u001b[43m        \u001b[49m\u001b[43mlevel\u001b[49m\u001b[38;5;241;43m=\u001b[39;49m\u001b[43mlevel\u001b[49m\u001b[43m,\u001b[49m\n\u001b[0;32m   4960\u001b[0m \u001b[43m        \u001b[49m\u001b[43minplace\u001b[49m\u001b[38;5;241;43m=\u001b[39;49m\u001b[43minplace\u001b[49m\u001b[43m,\u001b[49m\n\u001b[0;32m   4961\u001b[0m \u001b[43m        \u001b[49m\u001b[43merrors\u001b[49m\u001b[38;5;241;43m=\u001b[39;49m\u001b[43merrors\u001b[49m\u001b[43m,\u001b[49m\n\u001b[0;32m   4962\u001b[0m \u001b[43m    \u001b[49m\u001b[43m)\u001b[49m\n",
      "File \u001b[1;32m~\\anaconda3\\lib\\site-packages\\pandas\\core\\generic.py:4267\u001b[0m, in \u001b[0;36mNDFrame.drop\u001b[1;34m(self, labels, axis, index, columns, level, inplace, errors)\u001b[0m\n\u001b[0;32m   4265\u001b[0m \u001b[38;5;28;01mfor\u001b[39;00m axis, labels \u001b[38;5;129;01min\u001b[39;00m axes\u001b[38;5;241m.\u001b[39mitems():\n\u001b[0;32m   4266\u001b[0m     \u001b[38;5;28;01mif\u001b[39;00m labels \u001b[38;5;129;01mis\u001b[39;00m \u001b[38;5;129;01mnot\u001b[39;00m \u001b[38;5;28;01mNone\u001b[39;00m:\n\u001b[1;32m-> 4267\u001b[0m         obj \u001b[38;5;241m=\u001b[39m \u001b[43mobj\u001b[49m\u001b[38;5;241;43m.\u001b[39;49m\u001b[43m_drop_axis\u001b[49m\u001b[43m(\u001b[49m\u001b[43mlabels\u001b[49m\u001b[43m,\u001b[49m\u001b[43m \u001b[49m\u001b[43maxis\u001b[49m\u001b[43m,\u001b[49m\u001b[43m \u001b[49m\u001b[43mlevel\u001b[49m\u001b[38;5;241;43m=\u001b[39;49m\u001b[43mlevel\u001b[49m\u001b[43m,\u001b[49m\u001b[43m \u001b[49m\u001b[43merrors\u001b[49m\u001b[38;5;241;43m=\u001b[39;49m\u001b[43merrors\u001b[49m\u001b[43m)\u001b[49m\n\u001b[0;32m   4269\u001b[0m \u001b[38;5;28;01mif\u001b[39;00m inplace:\n\u001b[0;32m   4270\u001b[0m     \u001b[38;5;28mself\u001b[39m\u001b[38;5;241m.\u001b[39m_update_inplace(obj)\n",
      "File \u001b[1;32m~\\anaconda3\\lib\\site-packages\\pandas\\core\\generic.py:4311\u001b[0m, in \u001b[0;36mNDFrame._drop_axis\u001b[1;34m(self, labels, axis, level, errors, consolidate, only_slice)\u001b[0m\n\u001b[0;32m   4309\u001b[0m         new_axis \u001b[38;5;241m=\u001b[39m axis\u001b[38;5;241m.\u001b[39mdrop(labels, level\u001b[38;5;241m=\u001b[39mlevel, errors\u001b[38;5;241m=\u001b[39merrors)\n\u001b[0;32m   4310\u001b[0m     \u001b[38;5;28;01melse\u001b[39;00m:\n\u001b[1;32m-> 4311\u001b[0m         new_axis \u001b[38;5;241m=\u001b[39m \u001b[43maxis\u001b[49m\u001b[38;5;241;43m.\u001b[39;49m\u001b[43mdrop\u001b[49m\u001b[43m(\u001b[49m\u001b[43mlabels\u001b[49m\u001b[43m,\u001b[49m\u001b[43m \u001b[49m\u001b[43merrors\u001b[49m\u001b[38;5;241;43m=\u001b[39;49m\u001b[43merrors\u001b[49m\u001b[43m)\u001b[49m\n\u001b[0;32m   4312\u001b[0m     indexer \u001b[38;5;241m=\u001b[39m axis\u001b[38;5;241m.\u001b[39mget_indexer(new_axis)\n\u001b[0;32m   4314\u001b[0m \u001b[38;5;66;03m# Case for non-unique axis\u001b[39;00m\n\u001b[0;32m   4315\u001b[0m \u001b[38;5;28;01melse\u001b[39;00m:\n",
      "File \u001b[1;32m~\\anaconda3\\lib\\site-packages\\pandas\\core\\indexes\\base.py:6644\u001b[0m, in \u001b[0;36mIndex.drop\u001b[1;34m(self, labels, errors)\u001b[0m\n\u001b[0;32m   6642\u001b[0m \u001b[38;5;28;01mif\u001b[39;00m mask\u001b[38;5;241m.\u001b[39many():\n\u001b[0;32m   6643\u001b[0m     \u001b[38;5;28;01mif\u001b[39;00m errors \u001b[38;5;241m!=\u001b[39m \u001b[38;5;124m\"\u001b[39m\u001b[38;5;124mignore\u001b[39m\u001b[38;5;124m\"\u001b[39m:\n\u001b[1;32m-> 6644\u001b[0m         \u001b[38;5;28;01mraise\u001b[39;00m \u001b[38;5;167;01mKeyError\u001b[39;00m(\u001b[38;5;124mf\u001b[39m\u001b[38;5;124m\"\u001b[39m\u001b[38;5;132;01m{\u001b[39;00m\u001b[38;5;28mlist\u001b[39m(labels[mask])\u001b[38;5;132;01m}\u001b[39;00m\u001b[38;5;124m not found in axis\u001b[39m\u001b[38;5;124m\"\u001b[39m)\n\u001b[0;32m   6645\u001b[0m     indexer \u001b[38;5;241m=\u001b[39m indexer[\u001b[38;5;241m~\u001b[39mmask]\n\u001b[0;32m   6646\u001b[0m \u001b[38;5;28;01mreturn\u001b[39;00m \u001b[38;5;28mself\u001b[39m\u001b[38;5;241m.\u001b[39mdelete(indexer)\n",
      "\u001b[1;31mKeyError\u001b[0m: \"['block_sales', 'lot_sales'] not found in axis\""
     ]
    }
   ],
   "source": [
    "unmatched_df = unmatched_df.drop(columns=['block_sales', 'lot_sales'])"
   ]
  },
  {
   "cell_type": "code",
   "execution_count": 153,
   "id": "bda39e50",
   "metadata": {},
   "outputs": [],
   "source": [
    "unmatched_df = unmatched_df.drop(columns=['lot_pluto'])"
   ]
  },
  {
   "cell_type": "code",
   "execution_count": 154,
   "id": "c6cf6aca",
   "metadata": {},
   "outputs": [
    {
     "data": {
      "text/plain": [
       "Index(['units_residential', 'units_commercial', 'year_sold', 'years_elapsed',\n",
       "       'FAR', 'log_saleprice', 'latitude', 'longitude', 'yearalter1',\n",
       "       'yearalter2', 'numbldgs', 'numfloors', 'BCR', 'bin_ltdheight',\n",
       "       'bin_splitzone', 'bin_histdist', 'bin_landmark'],\n",
       "      dtype='object')"
      ]
     },
     "execution_count": 154,
     "metadata": {},
     "output_type": "execute_result"
    }
   ],
   "source": [
    "unmatched_df.columns"
   ]
  },
  {
   "cell_type": "code",
   "execution_count": 155,
   "id": "8d64af78",
   "metadata": {},
   "outputs": [
    {
     "data": {
      "text/plain": [
       "17"
      ]
     },
     "execution_count": 155,
     "metadata": {},
     "output_type": "execute_result"
    }
   ],
   "source": [
    "len(unmatched_df.columns)"
   ]
  },
  {
   "cell_type": "code",
   "execution_count": 156,
   "id": "299a2fa7",
   "metadata": {},
   "outputs": [
    {
     "data": {
      "text/plain": [
       "units_residential       3.603159\n",
       "units_commercial        0.782051\n",
       "year_sold            2019.854708\n",
       "FAR                          inf\n",
       "log_saleprice          14.038757\n",
       "latitude               40.763037\n",
       "longitude             -73.976283\n",
       "yearalter1            994.693382\n",
       "yearalter2            123.623906\n",
       "numbldgs                1.349339\n",
       "numfloors              16.190418\n",
       "BCR                     8.849303\n",
       "bin_ltdheight           0.019924\n",
       "bin_splitzone           0.963854\n",
       "bin_histdist            0.266299\n",
       "bin_landmark            0.028872\n",
       "Name: mean, dtype: float64"
      ]
     },
     "execution_count": 156,
     "metadata": {},
     "output_type": "execute_result"
    }
   ],
   "source": [
    "df.describe().T['mean']"
   ]
  },
  {
   "cell_type": "code",
   "execution_count": 160,
   "id": "746e329e",
   "metadata": {},
   "outputs": [
    {
     "data": {
      "image/png": "[encoded data removed]",
      "text/plain": [
       "<Figure size 576x432 with 1 Axes>"
      ]
     },
     "metadata": {
      "needs_background": "light"
     },
     "output_type": "display_data"
    }
   ],
   "source": [
    "#compare df and unmatched_df\n",
    "\n",
    "num_cols = ['units_residential', 'units_commercial', 'year_sold',\n",
    "       'FAR', 'log_saleprice', 'latitude', 'longitude', 'yearalter1',\n",
    "       'yearalter2', 'numbldgs', 'numfloors', 'BCR', 'bin_ltdheight',\n",
    "       'bin_splitzone', 'bin_histdist', 'bin_landmark']\n",
    "\n",
    "plt.figure(figsize=(8, 6))\n",
    "plt.scatter(num_cols, df.describe().T['mean'], label='Geocoded', color='blue', s=len(df)/1000, alpha=0.6)\n",
    "plt.scatter(num_cols, unmatched_df.describe().T['mean'], label='Not geocoded', color='red', s=len(unmatched_df)/1000, alpha=0.6)\n",
    "plt.xticks(rotation=90)\n",
    "plt.xlabel('Dependent variable')\n",
    "plt.ylabel('Group mean')\n",
    "plt.legend()\n",
    "plt.grid()\n",
    "plt.title('Difference in mean characteristics geocoded vs. non-geocoded sales')\n",
    "plt.savefig('OUTPUT_visualizations/nongeocoded.png')\n",
    "plt.show()"
   ]
  },
  {
   "cell_type": "code",
   "execution_count": 158,
   "id": "7caff0ac",
   "metadata": {},
   "outputs": [
    {
     "name": "stdout",
     "output_type": "stream",
     "text": [
      "(62137, 17)\n"
     ]
    },
    {
     "data": {
      "text/plain": [
       "Index(['units_residential', 'units_commercial', 'year_sold', 'years_elapsed',\n",
       "       'FAR', 'log_saleprice', 'latitude', 'longitude', 'yearalter1',\n",
       "       'yearalter2', 'numbldgs', 'numfloors', 'BCR', 'bin_ltdheight',\n",
       "       'bin_splitzone', 'bin_histdist', 'bin_landmark'],\n",
       "      dtype='object')"
      ]
     },
     "execution_count": 158,
     "metadata": {},
     "output_type": "execute_result"
    }
   ],
   "source": [
    "print(df.shape)\n",
    "df.columns"
   ]
  },
  {
   "cell_type": "markdown",
   "id": "47c7815f",
   "metadata": {},
   "source": [
    "# Merge in distance datasets"
   ]
  },
  {
   "cell_type": "code",
   "execution_count": 19,
   "id": "ae13d47c",
   "metadata": {},
   "outputs": [],
   "source": [
    "import pandas as pd\n",
    "\n",
    "hospital = pd.read_csv('INPUT_distances/hospital.csv')\n",
    "park = pd.read_csv('INPUT_distances/park.csv')\n",
    "school = pd.read_csv('INPUT_distances/public_school.csv')\n",
    "subway = pd.read_csv('INPUT_distances/subway.csv')\n",
    "housing = pd.read_csv('INPUT_distances/affordable_housing.csv')\n",
    "college = pd.read_csv('INPUT_distances/college_university.csv')\n",
    "museum = pd.read_csv('INPUT_distances/museum.csv')\n",
    "\n",
    "df['dist_park'] = park.distance.values[:len(df)]\n",
    "df['dist_subway'] = subway.distance.values[:len(df)]\n",
    "df['dist_hospital'] = hospital.distance.values[:len(df)]\n",
    "df['dist_school'] = school.distance.values[:len(df)]\n",
    "df['dist_housingdev'] = housing.distance.values[:len(df)]\n",
    "df['dist_college'] = college.distance.values[:len(df)]\n",
    "df['dist_museum'] = museum.distance.values[:len(df)]"
   ]
  },
  {
   "cell_type": "code",
   "execution_count": 161,
   "id": "046bf81d",
   "metadata": {},
   "outputs": [
    {
     "ename": "AttributeError",
     "evalue": "'DataFrame' object has no attribute 'dist_hospital'",
     "output_type": "error",
     "traceback": [
      "\u001b[1;31m---------------------------------------------------------------------------\u001b[0m",
      "\u001b[1;31mAttributeError\u001b[0m                            Traceback (most recent call last)",
      "Input \u001b[1;32mIn [161]\u001b[0m, in \u001b[0;36m<cell line: 5>\u001b[1;34m()\u001b[0m\n\u001b[0;32m      3\u001b[0m \u001b[38;5;28;01mimport\u001b[39;00m \u001b[38;5;21;01mmatplotlib\u001b[39;00m\u001b[38;5;21;01m.\u001b[39;00m\u001b[38;5;21;01mpyplot\u001b[39;00m \u001b[38;5;28;01mas\u001b[39;00m \u001b[38;5;21;01mplt\u001b[39;00m\n\u001b[0;32m      4\u001b[0m plt\u001b[38;5;241m.\u001b[39mfigure(figsize\u001b[38;5;241m=\u001b[39m(\u001b[38;5;241m12\u001b[39m,\u001b[38;5;241m8\u001b[39m))\n\u001b[1;32m----> 5\u001b[0m plt\u001b[38;5;241m.\u001b[39mscatter(\u001b[43mdf\u001b[49m\u001b[38;5;241;43m.\u001b[39;49m\u001b[43mdist_hospital\u001b[49m, df\u001b[38;5;241m.\u001b[39mlog_saleprice, color\u001b[38;5;241m=\u001b[39m\u001b[38;5;124m'\u001b[39m\u001b[38;5;124mpink\u001b[39m\u001b[38;5;124m'\u001b[39m, alpha\u001b[38;5;241m=\u001b[39m\u001b[38;5;241m0.3\u001b[39m, label\u001b[38;5;241m=\u001b[39m\u001b[38;5;124m'\u001b[39m\u001b[38;5;124mDistance to hospital\u001b[39m\u001b[38;5;124m'\u001b[39m)\n\u001b[0;32m      6\u001b[0m plt\u001b[38;5;241m.\u001b[39mscatter(df\u001b[38;5;241m.\u001b[39mdist_college, df\u001b[38;5;241m.\u001b[39mlog_saleprice, color\u001b[38;5;241m=\u001b[39m\u001b[38;5;124m'\u001b[39m\u001b[38;5;124mpurple\u001b[39m\u001b[38;5;124m'\u001b[39m, alpha\u001b[38;5;241m=\u001b[39m\u001b[38;5;241m0.3\u001b[39m, label\u001b[38;5;241m=\u001b[39m\u001b[38;5;124m'\u001b[39m\u001b[38;5;124mDistance to college or university\u001b[39m\u001b[38;5;124m'\u001b[39m)\n\u001b[0;32m      7\u001b[0m plt\u001b[38;5;241m.\u001b[39mscatter(df\u001b[38;5;241m.\u001b[39mdist_museum, df\u001b[38;5;241m.\u001b[39mlog_saleprice, color\u001b[38;5;241m=\u001b[39m\u001b[38;5;124m'\u001b[39m\u001b[38;5;124mgray\u001b[39m\u001b[38;5;124m'\u001b[39m, alpha\u001b[38;5;241m=\u001b[39m\u001b[38;5;241m0.3\u001b[39m, label\u001b[38;5;241m=\u001b[39m\u001b[38;5;124m'\u001b[39m\u001b[38;5;124mDistance to museum\u001b[39m\u001b[38;5;124m'\u001b[39m)\n",
      "File \u001b[1;32m~\\anaconda3\\lib\\site-packages\\pandas\\core\\generic.py:5575\u001b[0m, in \u001b[0;36mNDFrame.__getattr__\u001b[1;34m(self, name)\u001b[0m\n\u001b[0;32m   5568\u001b[0m \u001b[38;5;28;01mif\u001b[39;00m (\n\u001b[0;32m   5569\u001b[0m     name \u001b[38;5;129;01mnot\u001b[39;00m \u001b[38;5;129;01min\u001b[39;00m \u001b[38;5;28mself\u001b[39m\u001b[38;5;241m.\u001b[39m_internal_names_set\n\u001b[0;32m   5570\u001b[0m     \u001b[38;5;129;01mand\u001b[39;00m name \u001b[38;5;129;01mnot\u001b[39;00m \u001b[38;5;129;01min\u001b[39;00m \u001b[38;5;28mself\u001b[39m\u001b[38;5;241m.\u001b[39m_metadata\n\u001b[0;32m   5571\u001b[0m     \u001b[38;5;129;01mand\u001b[39;00m name \u001b[38;5;129;01mnot\u001b[39;00m \u001b[38;5;129;01min\u001b[39;00m \u001b[38;5;28mself\u001b[39m\u001b[38;5;241m.\u001b[39m_accessors\n\u001b[0;32m   5572\u001b[0m     \u001b[38;5;129;01mand\u001b[39;00m \u001b[38;5;28mself\u001b[39m\u001b[38;5;241m.\u001b[39m_info_axis\u001b[38;5;241m.\u001b[39m_can_hold_identifiers_and_holds_name(name)\n\u001b[0;32m   5573\u001b[0m ):\n\u001b[0;32m   5574\u001b[0m     \u001b[38;5;28;01mreturn\u001b[39;00m \u001b[38;5;28mself\u001b[39m[name]\n\u001b[1;32m-> 5575\u001b[0m \u001b[38;5;28;01mreturn\u001b[39;00m \u001b[38;5;28;43mobject\u001b[39;49m\u001b[38;5;241;43m.\u001b[39;49m\u001b[38;5;21;43m__getattribute__\u001b[39;49m\u001b[43m(\u001b[49m\u001b[38;5;28;43mself\u001b[39;49m\u001b[43m,\u001b[49m\u001b[43m \u001b[49m\u001b[43mname\u001b[49m\u001b[43m)\u001b[49m\n",
      "\u001b[1;31mAttributeError\u001b[0m: 'DataFrame' object has no attribute 'dist_hospital'"
     ]
    },
    {
     "data": {
      "text/plain": [
       "<Figure size 864x576 with 0 Axes>"
      ]
     },
     "metadata": {},
     "output_type": "display_data"
    }
   ],
   "source": [
    "#visualize distribution of each \n",
    "\n",
    "import matplotlib.pyplot as plt\n",
    "plt.figure(figsize=(12,8))\n",
    "plt.scatter(df.dist_hospital, df.log_saleprice, color='pink', alpha=0.3, label='Distance to hospital')\n",
    "plt.scatter(df.dist_college, df.log_saleprice, color='purple', alpha=0.3, label='Distance to college or university')\n",
    "plt.scatter(df.dist_museum, df.log_saleprice, color='gray', alpha=0.3, label='Distance to museum')\n",
    "plt.scatter(df.dist_housingdev, df.log_saleprice, color='blue', alpha=0.3, label='Distance to affordable housing')\n",
    "plt.scatter(df.dist_subway, df.log_saleprice, color='orange', alpha=0.3, label='Distance to subway')\n",
    "plt.scatter(df.dist_school, df.log_saleprice, color='yellow', alpha=0.3, label='Distance to school')\n",
    "plt.scatter(df.dist_park, df.log_saleprice, color='green', alpha=0.3, label='Distance to park')\n",
    "plt.xlabel('Distance measure')\n",
    "plt.ylabel('Log of sale price')\n",
    "plt.legend()\n",
    "plt.savefig('OUTPUT_visualizations/distances.png')\n",
    "plt.show()"
   ]
  },
  {
   "cell_type": "code",
   "execution_count": 22,
   "id": "3d620400",
   "metadata": {},
   "outputs": [
    {
     "name": "stdout",
     "output_type": "stream",
     "text": [
      "Features with > 90% missing data: [] \n",
      "\n",
      "Features with any missing data:\n"
     ]
    },
    {
     "data": {
      "text/html": [
       "<div>\n",
       "<style scoped>\n",
       "    .dataframe tbody tr th:only-of-type {\n",
       "        vertical-align: middle;\n",
       "    }\n",
       "\n",
       "    .dataframe tbody tr th {\n",
       "        vertical-align: top;\n",
       "    }\n",
       "\n",
       "    .dataframe thead th {\n",
       "        text-align: right;\n",
       "    }\n",
       "</style>\n",
       "<table border=\"1\" class=\"dataframe\">\n",
       "  <thead>\n",
       "    <tr style=\"text-align: right;\">\n",
       "      <th></th>\n",
       "      <th>column_name</th>\n",
       "      <th>pct_missing</th>\n",
       "    </tr>\n",
       "  </thead>\n",
       "  <tbody>\n",
       "    <tr>\n",
       "      <th>1</th>\n",
       "      <td>units_commercial</td>\n",
       "      <td>58.235834</td>\n",
       "    </tr>\n",
       "    <tr>\n",
       "      <th>0</th>\n",
       "      <td>units_residential</td>\n",
       "      <td>44.055877</td>\n",
       "    </tr>\n",
       "    <tr>\n",
       "      <th>10</th>\n",
       "      <td>numfloors</td>\n",
       "      <td>4.597905</td>\n",
       "    </tr>\n",
       "    <tr>\n",
       "      <th>3</th>\n",
       "      <td>years_elapsed</td>\n",
       "      <td>3.934854</td>\n",
       "    </tr>\n",
       "    <tr>\n",
       "      <th>11</th>\n",
       "      <td>BCR</td>\n",
       "      <td>3.603328</td>\n",
       "    </tr>\n",
       "    <tr>\n",
       "      <th>9</th>\n",
       "      <td>numbldgs</td>\n",
       "      <td>3.505158</td>\n",
       "    </tr>\n",
       "    <tr>\n",
       "      <th>7</th>\n",
       "      <td>yearalter1</td>\n",
       "      <td>0.001609</td>\n",
       "    </tr>\n",
       "    <tr>\n",
       "      <th>8</th>\n",
       "      <td>yearalter2</td>\n",
       "      <td>0.001609</td>\n",
       "    </tr>\n",
       "  </tbody>\n",
       "</table>\n",
       "</div>"
      ],
      "text/plain": [
       "          column_name  pct_missing\n",
       "1    units_commercial    58.235834\n",
       "0   units_residential    44.055877\n",
       "10          numfloors     4.597905\n",
       "3       years_elapsed     3.934854\n",
       "11                BCR     3.603328\n",
       "9            numbldgs     3.505158\n",
       "7          yearalter1     0.001609\n",
       "8          yearalter2     0.001609"
      ]
     },
     "metadata": {},
     "output_type": "display_data"
    }
   ],
   "source": [
    "#check out columns with a lot of missing data\n",
    "cols = pd.DataFrame(df.columns).rename(columns={0:'column_name'})\n",
    "missing = []\n",
    "for i in cols['column_name']:\n",
    "    missing.append(100*df[i].isnull().sum()/len(df[i]))\n",
    "cols['pct_missing'] = missing\n",
    "to_drop = []\n",
    "for i in cols.index:\n",
    "    if cols['pct_missing'][i] > 90:\n",
    "        to_drop.append(cols['column_name'][i])\n",
    "df = df.drop(columns=to_drop)\n",
    "\n",
    "print('Features with > 90% missing data: {} \\n'.format(to_drop))\n",
    "print('Features with any missing data:')\n",
    "display(cols[cols['pct_missing']>0].sort_values('pct_missing', ascending=False))"
   ]
  },
  {
   "cell_type": "code",
   "execution_count": 23,
   "id": "cf8ab5e5",
   "metadata": {},
   "outputs": [
    {
     "data": {
      "text/plain": [
       "(62137, 23)"
      ]
     },
     "execution_count": 23,
     "metadata": {},
     "output_type": "execute_result"
    }
   ],
   "source": [
    "df.shape"
   ]
  },
  {
   "cell_type": "code",
   "execution_count": 24,
   "id": "11439f76",
   "metadata": {},
   "outputs": [
    {
     "data": {
      "image/png": "[encoded data removed]",
      "text/plain": [
       "<Figure size 1008x576 with 2 Axes>"
      ]
     },
     "metadata": {
      "needs_background": "light"
     },
     "output_type": "display_data"
    }
   ],
   "source": [
    "# plot corr matrix of all vars\n",
    "\n",
    "f = plt.figure(figsize=(14, 8))\n",
    "plt.matshow(df.corr(), fignum=f.number)\n",
    "plt.xticks(range(df.select_dtypes(['number']).shape[1]), df.select_dtypes(['number']).columns, fontsize=10, rotation=90)\n",
    "plt.yticks(range(df.select_dtypes(['number']).shape[1]), df.select_dtypes(['number']).columns, fontsize=10)\n",
    "cb = plt.colorbar()\n",
    "cb.ax.tick_params(labelsize=10)\n",
    "plt.title('Correlation between independent variables')\n",
    "plt.savefig('OUTPUT_visualizations/4.Corr matrix for all vars.png')\n",
    "plt.show()"
   ]
  },
  {
   "cell_type": "code",
   "execution_count": 25,
   "id": "06ee58aa",
   "metadata": {},
   "outputs": [
    {
     "data": {
      "image/png": "[encoded data removed]",
      "text/plain": [
       "<Figure size 720x432 with 1 Axes>"
      ]
     },
     "metadata": {
      "needs_background": "light"
     },
     "output_type": "display_data"
    }
   ],
   "source": [
    "#plot hist of sale prices\n",
    "\n",
    "import matplotlib.pyplot as plt\n",
    "plt.figure(figsize=(10, 6))\n",
    "plt.hist(df['log_saleprice'])\n",
    "plt.xlabel('Ln of sale price')\n",
    "plt.ylabel('Frequency')\n",
    "plt.title('Manhattan real estate sales, 2017-2022')\n",
    "plt.savefig('OUTPUT_visualizations/5.Histogram of ln sale price.png')\n",
    "plt.show()"
   ]
  },
  {
   "cell_type": "code",
   "execution_count": 26,
   "id": "3f722a92",
   "metadata": {},
   "outputs": [
    {
     "data": {
      "text/html": [
       "<div>\n",
       "<style scoped>\n",
       "    .dataframe tbody tr th:only-of-type {\n",
       "        vertical-align: middle;\n",
       "    }\n",
       "\n",
       "    .dataframe tbody tr th {\n",
       "        vertical-align: top;\n",
       "    }\n",
       "\n",
       "    .dataframe thead th {\n",
       "        text-align: right;\n",
       "    }\n",
       "</style>\n",
       "<table border=\"1\" class=\"dataframe\">\n",
       "  <thead>\n",
       "    <tr style=\"text-align: right;\">\n",
       "      <th></th>\n",
       "      <th>column_name</th>\n",
       "      <th>count</th>\n",
       "      <th>mean</th>\n",
       "      <th>std</th>\n",
       "      <th>min</th>\n",
       "      <th>25%</th>\n",
       "      <th>50%</th>\n",
       "      <th>75%</th>\n",
       "      <th>max</th>\n",
       "    </tr>\n",
       "  </thead>\n",
       "  <tbody>\n",
       "    <tr>\n",
       "      <th>10</th>\n",
       "      <td>BCR</td>\n",
       "      <td>59898.0</td>\n",
       "      <td>8.849303</td>\n",
       "      <td>5.140569</td>\n",
       "      <td>0.000000</td>\n",
       "      <td>4.353262</td>\n",
       "      <td>8.112054</td>\n",
       "      <td>12.133492</td>\n",
       "      <td>52.951082</td>\n",
       "    </tr>\n",
       "    <tr>\n",
       "      <th>13</th>\n",
       "      <td>bin_histdist</td>\n",
       "      <td>62137.0</td>\n",
       "      <td>0.266299</td>\n",
       "      <td>0.442026</td>\n",
       "      <td>0.000000</td>\n",
       "      <td>0.000000</td>\n",
       "      <td>0.000000</td>\n",
       "      <td>1.000000</td>\n",
       "      <td>1.000000</td>\n",
       "    </tr>\n",
       "    <tr>\n",
       "      <th>14</th>\n",
       "      <td>bin_landmark</td>\n",
       "      <td>62137.0</td>\n",
       "      <td>0.028872</td>\n",
       "      <td>0.167447</td>\n",
       "      <td>0.000000</td>\n",
       "      <td>0.000000</td>\n",
       "      <td>0.000000</td>\n",
       "      <td>0.000000</td>\n",
       "      <td>1.000000</td>\n",
       "    </tr>\n",
       "    <tr>\n",
       "      <th>11</th>\n",
       "      <td>bin_ltdheight</td>\n",
       "      <td>62137.0</td>\n",
       "      <td>0.019924</td>\n",
       "      <td>0.139739</td>\n",
       "      <td>0.000000</td>\n",
       "      <td>0.000000</td>\n",
       "      <td>0.000000</td>\n",
       "      <td>0.000000</td>\n",
       "      <td>1.000000</td>\n",
       "    </tr>\n",
       "    <tr>\n",
       "      <th>12</th>\n",
       "      <td>bin_splitzone</td>\n",
       "      <td>62137.0</td>\n",
       "      <td>0.963854</td>\n",
       "      <td>0.186655</td>\n",
       "      <td>0.000000</td>\n",
       "      <td>1.000000</td>\n",
       "      <td>1.000000</td>\n",
       "      <td>1.000000</td>\n",
       "      <td>1.000000</td>\n",
       "    </tr>\n",
       "    <tr>\n",
       "      <th>20</th>\n",
       "      <td>dist_college</td>\n",
       "      <td>62137.0</td>\n",
       "      <td>0.006266</td>\n",
       "      <td>0.003799</td>\n",
       "      <td>0.000001</td>\n",
       "      <td>0.003205</td>\n",
       "      <td>0.005641</td>\n",
       "      <td>0.008870</td>\n",
       "      <td>0.019470</td>\n",
       "    </tr>\n",
       "    <tr>\n",
       "      <th>17</th>\n",
       "      <td>dist_hospital</td>\n",
       "      <td>62137.0</td>\n",
       "      <td>0.014633</td>\n",
       "      <td>0.008621</td>\n",
       "      <td>0.000209</td>\n",
       "      <td>0.008622</td>\n",
       "      <td>0.012274</td>\n",
       "      <td>0.018683</td>\n",
       "      <td>0.039067</td>\n",
       "    </tr>\n",
       "    <tr>\n",
       "      <th>19</th>\n",
       "      <td>dist_housingdev</td>\n",
       "      <td>62137.0</td>\n",
       "      <td>0.003039</td>\n",
       "      <td>0.002137</td>\n",
       "      <td>0.000111</td>\n",
       "      <td>0.001379</td>\n",
       "      <td>0.002769</td>\n",
       "      <td>0.004141</td>\n",
       "      <td>0.012611</td>\n",
       "    </tr>\n",
       "    <tr>\n",
       "      <th>21</th>\n",
       "      <td>dist_museum</td>\n",
       "      <td>62137.0</td>\n",
       "      <td>0.004895</td>\n",
       "      <td>0.002905</td>\n",
       "      <td>0.000004</td>\n",
       "      <td>0.002542</td>\n",
       "      <td>0.004476</td>\n",
       "      <td>0.006992</td>\n",
       "      <td>0.018043</td>\n",
       "    </tr>\n",
       "    <tr>\n",
       "      <th>15</th>\n",
       "      <td>dist_park</td>\n",
       "      <td>62137.0</td>\n",
       "      <td>0.001567</td>\n",
       "      <td>0.001143</td>\n",
       "      <td>0.000000</td>\n",
       "      <td>0.000629</td>\n",
       "      <td>0.001268</td>\n",
       "      <td>0.002176</td>\n",
       "      <td>0.006403</td>\n",
       "    </tr>\n",
       "    <tr>\n",
       "      <th>18</th>\n",
       "      <td>dist_school</td>\n",
       "      <td>62137.0</td>\n",
       "      <td>0.002965</td>\n",
       "      <td>0.001739</td>\n",
       "      <td>0.000013</td>\n",
       "      <td>0.001674</td>\n",
       "      <td>0.002615</td>\n",
       "      <td>0.003837</td>\n",
       "      <td>0.010841</td>\n",
       "    </tr>\n",
       "    <tr>\n",
       "      <th>16</th>\n",
       "      <td>dist_subway</td>\n",
       "      <td>62137.0</td>\n",
       "      <td>0.003245</td>\n",
       "      <td>0.001953</td>\n",
       "      <td>0.000155</td>\n",
       "      <td>0.001816</td>\n",
       "      <td>0.002817</td>\n",
       "      <td>0.004148</td>\n",
       "      <td>0.010516</td>\n",
       "    </tr>\n",
       "    <tr>\n",
       "      <th>4</th>\n",
       "      <td>latitude</td>\n",
       "      <td>62137.0</td>\n",
       "      <td>40.763037</td>\n",
       "      <td>0.033522</td>\n",
       "      <td>40.702776</td>\n",
       "      <td>40.737678</td>\n",
       "      <td>40.763190</td>\n",
       "      <td>40.780596</td>\n",
       "      <td>40.878084</td>\n",
       "    </tr>\n",
       "    <tr>\n",
       "      <th>3</th>\n",
       "      <td>log_saleprice</td>\n",
       "      <td>62137.0</td>\n",
       "      <td>14.038757</td>\n",
       "      <td>1.487696</td>\n",
       "      <td>0.693147</td>\n",
       "      <td>13.345507</td>\n",
       "      <td>13.952730</td>\n",
       "      <td>14.731801</td>\n",
       "      <td>21.597693</td>\n",
       "    </tr>\n",
       "    <tr>\n",
       "      <th>5</th>\n",
       "      <td>longitude</td>\n",
       "      <td>62137.0</td>\n",
       "      <td>-73.976283</td>\n",
       "      <td>0.021194</td>\n",
       "      <td>-74.018118</td>\n",
       "      <td>-73.993629</td>\n",
       "      <td>-73.978224</td>\n",
       "      <td>-73.959475</td>\n",
       "      <td>-73.909048</td>\n",
       "    </tr>\n",
       "    <tr>\n",
       "      <th>8</th>\n",
       "      <td>numbldgs</td>\n",
       "      <td>59959.0</td>\n",
       "      <td>1.349339</td>\n",
       "      <td>2.144255</td>\n",
       "      <td>0.000000</td>\n",
       "      <td>1.000000</td>\n",
       "      <td>1.000000</td>\n",
       "      <td>1.000000</td>\n",
       "      <td>39.000000</td>\n",
       "    </tr>\n",
       "    <tr>\n",
       "      <th>9</th>\n",
       "      <td>numfloors</td>\n",
       "      <td>59280.0</td>\n",
       "      <td>16.190418</td>\n",
       "      <td>12.555822</td>\n",
       "      <td>1.000000</td>\n",
       "      <td>6.000000</td>\n",
       "      <td>14.000000</td>\n",
       "      <td>20.000000</td>\n",
       "      <td>98.000000</td>\n",
       "    </tr>\n",
       "    <tr>\n",
       "      <th>1</th>\n",
       "      <td>units_commercial</td>\n",
       "      <td>25951.0</td>\n",
       "      <td>0.782051</td>\n",
       "      <td>8.905739</td>\n",
       "      <td>0.000000</td>\n",
       "      <td>0.000000</td>\n",
       "      <td>0.000000</td>\n",
       "      <td>0.000000</td>\n",
       "      <td>570.000000</td>\n",
       "    </tr>\n",
       "    <tr>\n",
       "      <th>0</th>\n",
       "      <td>units_residential</td>\n",
       "      <td>34762.0</td>\n",
       "      <td>3.603159</td>\n",
       "      <td>22.365354</td>\n",
       "      <td>0.000000</td>\n",
       "      <td>0.000000</td>\n",
       "      <td>1.000000</td>\n",
       "      <td>1.000000</td>\n",
       "      <td>899.000000</td>\n",
       "    </tr>\n",
       "    <tr>\n",
       "      <th>2</th>\n",
       "      <td>year_sold</td>\n",
       "      <td>62137.0</td>\n",
       "      <td>2019.854708</td>\n",
       "      <td>1.792338</td>\n",
       "      <td>2017.000000</td>\n",
       "      <td>2018.000000</td>\n",
       "      <td>2020.000000</td>\n",
       "      <td>2021.000000</td>\n",
       "      <td>2022.000000</td>\n",
       "    </tr>\n",
       "    <tr>\n",
       "      <th>6</th>\n",
       "      <td>yearalter1</td>\n",
       "      <td>62136.0</td>\n",
       "      <td>994.693382</td>\n",
       "      <td>995.871740</td>\n",
       "      <td>0.000000</td>\n",
       "      <td>0.000000</td>\n",
       "      <td>0.000000</td>\n",
       "      <td>1987.000000</td>\n",
       "      <td>2021.000000</td>\n",
       "    </tr>\n",
       "    <tr>\n",
       "      <th>7</th>\n",
       "      <td>yearalter2</td>\n",
       "      <td>62136.0</td>\n",
       "      <td>123.623906</td>\n",
       "      <td>482.424964</td>\n",
       "      <td>0.000000</td>\n",
       "      <td>0.000000</td>\n",
       "      <td>0.000000</td>\n",
       "      <td>0.000000</td>\n",
       "      <td>2021.000000</td>\n",
       "    </tr>\n",
       "  </tbody>\n",
       "</table>\n",
       "</div>"
      ],
      "text/plain": [
       "          column_name    count         mean         std          min  \\\n",
       "10                BCR  59898.0     8.849303    5.140569     0.000000   \n",
       "13       bin_histdist  62137.0     0.266299    0.442026     0.000000   \n",
       "14       bin_landmark  62137.0     0.028872    0.167447     0.000000   \n",
       "11      bin_ltdheight  62137.0     0.019924    0.139739     0.000000   \n",
       "12      bin_splitzone  62137.0     0.963854    0.186655     0.000000   \n",
       "20       dist_college  62137.0     0.006266    0.003799     0.000001   \n",
       "17      dist_hospital  62137.0     0.014633    0.008621     0.000209   \n",
       "19    dist_housingdev  62137.0     0.003039    0.002137     0.000111   \n",
       "21        dist_museum  62137.0     0.004895    0.002905     0.000004   \n",
       "15          dist_park  62137.0     0.001567    0.001143     0.000000   \n",
       "18        dist_school  62137.0     0.002965    0.001739     0.000013   \n",
       "16        dist_subway  62137.0     0.003245    0.001953     0.000155   \n",
       "4            latitude  62137.0    40.763037    0.033522    40.702776   \n",
       "3       log_saleprice  62137.0    14.038757    1.487696     0.693147   \n",
       "5           longitude  62137.0   -73.976283    0.021194   -74.018118   \n",
       "8            numbldgs  59959.0     1.349339    2.144255     0.000000   \n",
       "9           numfloors  59280.0    16.190418   12.555822     1.000000   \n",
       "1    units_commercial  25951.0     0.782051    8.905739     0.000000   \n",
       "0   units_residential  34762.0     3.603159   22.365354     0.000000   \n",
       "2           year_sold  62137.0  2019.854708    1.792338  2017.000000   \n",
       "6          yearalter1  62136.0   994.693382  995.871740     0.000000   \n",
       "7          yearalter2  62136.0   123.623906  482.424964     0.000000   \n",
       "\n",
       "            25%          50%          75%          max  \n",
       "10     4.353262     8.112054    12.133492    52.951082  \n",
       "13     0.000000     0.000000     1.000000     1.000000  \n",
       "14     0.000000     0.000000     0.000000     1.000000  \n",
       "11     0.000000     0.000000     0.000000     1.000000  \n",
       "12     1.000000     1.000000     1.000000     1.000000  \n",
       "20     0.003205     0.005641     0.008870     0.019470  \n",
       "17     0.008622     0.012274     0.018683     0.039067  \n",
       "19     0.001379     0.002769     0.004141     0.012611  \n",
       "21     0.002542     0.004476     0.006992     0.018043  \n",
       "15     0.000629     0.001268     0.002176     0.006403  \n",
       "18     0.001674     0.002615     0.003837     0.010841  \n",
       "16     0.001816     0.002817     0.004148     0.010516  \n",
       "4     40.737678    40.763190    40.780596    40.878084  \n",
       "3     13.345507    13.952730    14.731801    21.597693  \n",
       "5    -73.993629   -73.978224   -73.959475   -73.909048  \n",
       "8      1.000000     1.000000     1.000000    39.000000  \n",
       "9      6.000000    14.000000    20.000000    98.000000  \n",
       "1      0.000000     0.000000     0.000000   570.000000  \n",
       "0      0.000000     1.000000     1.000000   899.000000  \n",
       "2   2018.000000  2020.000000  2021.000000  2022.000000  \n",
       "6      0.000000     0.000000  1987.000000  2021.000000  \n",
       "7      0.000000     0.000000     0.000000  2021.000000  "
      ]
     },
     "execution_count": 26,
     "metadata": {},
     "output_type": "execute_result"
    }
   ],
   "source": [
    "df.describe().T.reset_index().sort_values(by='index').rename(columns={'index':'column_name'})"
   ]
  },
  {
   "cell_type": "code",
   "execution_count": 27,
   "id": "c562ce4f",
   "metadata": {},
   "outputs": [],
   "source": [
    "df.to_csv('OUTPUT_cleandata/df_dist.csv')"
   ]
  },
  {
   "cell_type": "code",
   "execution_count": 162,
   "id": "a8283925",
   "metadata": {},
   "outputs": [
    {
     "data": {
      "text/html": [
       "<div>\n",
       "<style scoped>\n",
       "    .dataframe tbody tr th:only-of-type {\n",
       "        vertical-align: middle;\n",
       "    }\n",
       "\n",
       "    .dataframe tbody tr th {\n",
       "        vertical-align: top;\n",
       "    }\n",
       "\n",
       "    .dataframe thead th {\n",
       "        text-align: right;\n",
       "    }\n",
       "</style>\n",
       "<table border=\"1\" class=\"dataframe\">\n",
       "  <thead>\n",
       "    <tr style=\"text-align: right;\">\n",
       "      <th></th>\n",
       "      <th>units_residential</th>\n",
       "      <th>units_commercial</th>\n",
       "      <th>year_sold</th>\n",
       "      <th>FAR</th>\n",
       "      <th>log_saleprice</th>\n",
       "      <th>latitude</th>\n",
       "      <th>longitude</th>\n",
       "      <th>yearalter1</th>\n",
       "      <th>yearalter2</th>\n",
       "      <th>numbldgs</th>\n",
       "      <th>numfloors</th>\n",
       "      <th>BCR</th>\n",
       "      <th>bin_ltdheight</th>\n",
       "      <th>bin_splitzone</th>\n",
       "      <th>bin_histdist</th>\n",
       "      <th>bin_landmark</th>\n",
       "    </tr>\n",
       "  </thead>\n",
       "  <tbody>\n",
       "    <tr>\n",
       "      <th>count</th>\n",
       "      <td>34762.000000</td>\n",
       "      <td>25951.000000</td>\n",
       "      <td>62137.000000</td>\n",
       "      <td>5929.000000</td>\n",
       "      <td>62137.000000</td>\n",
       "      <td>62137.000000</td>\n",
       "      <td>62137.000000</td>\n",
       "      <td>62136.000000</td>\n",
       "      <td>62136.000000</td>\n",
       "      <td>59959.000000</td>\n",
       "      <td>59280.000000</td>\n",
       "      <td>59898.000000</td>\n",
       "      <td>62137.000000</td>\n",
       "      <td>62137.000000</td>\n",
       "      <td>62137.000000</td>\n",
       "      <td>62137.000000</td>\n",
       "    </tr>\n",
       "    <tr>\n",
       "      <th>mean</th>\n",
       "      <td>3.603159</td>\n",
       "      <td>0.782051</td>\n",
       "      <td>2019.854708</td>\n",
       "      <td>inf</td>\n",
       "      <td>14.038757</td>\n",
       "      <td>40.763037</td>\n",
       "      <td>-73.976283</td>\n",
       "      <td>994.693382</td>\n",
       "      <td>123.623906</td>\n",
       "      <td>1.349339</td>\n",
       "      <td>16.190418</td>\n",
       "      <td>8.849303</td>\n",
       "      <td>0.019924</td>\n",
       "      <td>0.963854</td>\n",
       "      <td>0.266299</td>\n",
       "      <td>0.028872</td>\n",
       "    </tr>\n",
       "    <tr>\n",
       "      <th>std</th>\n",
       "      <td>22.365354</td>\n",
       "      <td>8.905739</td>\n",
       "      <td>1.792338</td>\n",
       "      <td>NaN</td>\n",
       "      <td>1.487696</td>\n",
       "      <td>0.033522</td>\n",
       "      <td>0.021194</td>\n",
       "      <td>995.871740</td>\n",
       "      <td>482.424964</td>\n",
       "      <td>2.144255</td>\n",
       "      <td>12.555822</td>\n",
       "      <td>5.140569</td>\n",
       "      <td>0.139739</td>\n",
       "      <td>0.186655</td>\n",
       "      <td>0.442026</td>\n",
       "      <td>0.167447</td>\n",
       "    </tr>\n",
       "    <tr>\n",
       "      <th>min</th>\n",
       "      <td>0.000000</td>\n",
       "      <td>0.000000</td>\n",
       "      <td>2017.000000</td>\n",
       "      <td>0.000000</td>\n",
       "      <td>0.693147</td>\n",
       "      <td>40.702776</td>\n",
       "      <td>-74.018118</td>\n",
       "      <td>0.000000</td>\n",
       "      <td>0.000000</td>\n",
       "      <td>0.000000</td>\n",
       "      <td>1.000000</td>\n",
       "      <td>0.000000</td>\n",
       "      <td>0.000000</td>\n",
       "      <td>0.000000</td>\n",
       "      <td>0.000000</td>\n",
       "      <td>0.000000</td>\n",
       "    </tr>\n",
       "    <tr>\n",
       "      <th>25%</th>\n",
       "      <td>0.000000</td>\n",
       "      <td>0.000000</td>\n",
       "      <td>2018.000000</td>\n",
       "      <td>2.220779</td>\n",
       "      <td>13.345507</td>\n",
       "      <td>40.737678</td>\n",
       "      <td>-73.993629</td>\n",
       "      <td>0.000000</td>\n",
       "      <td>0.000000</td>\n",
       "      <td>1.000000</td>\n",
       "      <td>6.000000</td>\n",
       "      <td>4.353262</td>\n",
       "      <td>0.000000</td>\n",
       "      <td>1.000000</td>\n",
       "      <td>0.000000</td>\n",
       "      <td>0.000000</td>\n",
       "    </tr>\n",
       "    <tr>\n",
       "      <th>50%</th>\n",
       "      <td>1.000000</td>\n",
       "      <td>0.000000</td>\n",
       "      <td>2020.000000</td>\n",
       "      <td>3.381857</td>\n",
       "      <td>13.952730</td>\n",
       "      <td>40.763190</td>\n",
       "      <td>-73.978224</td>\n",
       "      <td>0.000000</td>\n",
       "      <td>0.000000</td>\n",
       "      <td>1.000000</td>\n",
       "      <td>14.000000</td>\n",
       "      <td>8.112054</td>\n",
       "      <td>0.000000</td>\n",
       "      <td>1.000000</td>\n",
       "      <td>0.000000</td>\n",
       "      <td>0.000000</td>\n",
       "    </tr>\n",
       "    <tr>\n",
       "      <th>75%</th>\n",
       "      <td>1.000000</td>\n",
       "      <td>0.000000</td>\n",
       "      <td>2021.000000</td>\n",
       "      <td>4.407817</td>\n",
       "      <td>14.731801</td>\n",
       "      <td>40.780596</td>\n",
       "      <td>-73.959475</td>\n",
       "      <td>1987.000000</td>\n",
       "      <td>0.000000</td>\n",
       "      <td>1.000000</td>\n",
       "      <td>20.000000</td>\n",
       "      <td>12.133492</td>\n",
       "      <td>0.000000</td>\n",
       "      <td>1.000000</td>\n",
       "      <td>1.000000</td>\n",
       "      <td>0.000000</td>\n",
       "    </tr>\n",
       "    <tr>\n",
       "      <th>max</th>\n",
       "      <td>899.000000</td>\n",
       "      <td>570.000000</td>\n",
       "      <td>2022.000000</td>\n",
       "      <td>inf</td>\n",
       "      <td>21.597693</td>\n",
       "      <td>40.878084</td>\n",
       "      <td>-73.909048</td>\n",
       "      <td>2021.000000</td>\n",
       "      <td>2021.000000</td>\n",
       "      <td>39.000000</td>\n",
       "      <td>98.000000</td>\n",
       "      <td>52.951082</td>\n",
       "      <td>1.000000</td>\n",
       "      <td>1.000000</td>\n",
       "      <td>1.000000</td>\n",
       "      <td>1.000000</td>\n",
       "    </tr>\n",
       "  </tbody>\n",
       "</table>\n",
       "</div>"
      ],
      "text/plain": [
       "       units_residential  units_commercial     year_sold          FAR  \\\n",
       "count       34762.000000      25951.000000  62137.000000  5929.000000   \n",
       "mean            3.603159          0.782051   2019.854708          inf   \n",
       "std            22.365354          8.905739      1.792338          NaN   \n",
       "min             0.000000          0.000000   2017.000000     0.000000   \n",
       "25%             0.000000          0.000000   2018.000000     2.220779   \n",
       "50%             1.000000          0.000000   2020.000000     3.381857   \n",
       "75%             1.000000          0.000000   2021.000000     4.407817   \n",
       "max           899.000000        570.000000   2022.000000          inf   \n",
       "\n",
       "       log_saleprice      latitude     longitude    yearalter1    yearalter2  \\\n",
       "count   62137.000000  62137.000000  62137.000000  62136.000000  62136.000000   \n",
       "mean       14.038757     40.763037    -73.976283    994.693382    123.623906   \n",
       "std         1.487696      0.033522      0.021194    995.871740    482.424964   \n",
       "min         0.693147     40.702776    -74.018118      0.000000      0.000000   \n",
       "25%        13.345507     40.737678    -73.993629      0.000000      0.000000   \n",
       "50%        13.952730     40.763190    -73.978224      0.000000      0.000000   \n",
       "75%        14.731801     40.780596    -73.959475   1987.000000      0.000000   \n",
       "max        21.597693     40.878084    -73.909048   2021.000000   2021.000000   \n",
       "\n",
       "           numbldgs     numfloors           BCR  bin_ltdheight  bin_splitzone  \\\n",
       "count  59959.000000  59280.000000  59898.000000   62137.000000   62137.000000   \n",
       "mean       1.349339     16.190418      8.849303       0.019924       0.963854   \n",
       "std        2.144255     12.555822      5.140569       0.139739       0.186655   \n",
       "min        0.000000      1.000000      0.000000       0.000000       0.000000   \n",
       "25%        1.000000      6.000000      4.353262       0.000000       1.000000   \n",
       "50%        1.000000     14.000000      8.112054       0.000000       1.000000   \n",
       "75%        1.000000     20.000000     12.133492       0.000000       1.000000   \n",
       "max       39.000000     98.000000     52.951082       1.000000       1.000000   \n",
       "\n",
       "       bin_histdist  bin_landmark  \n",
       "count  62137.000000  62137.000000  \n",
       "mean       0.266299      0.028872  \n",
       "std        0.442026      0.167447  \n",
       "min        0.000000      0.000000  \n",
       "25%        0.000000      0.000000  \n",
       "50%        0.000000      0.000000  \n",
       "75%        1.000000      0.000000  \n",
       "max        1.000000      1.000000  "
      ]
     },
     "execution_count": 162,
     "metadata": {},
     "output_type": "execute_result"
    }
   ],
   "source": [
    "df.describe()"
   ]
  },
  {
   "cell_type": "code",
   "execution_count": 165,
   "id": "4a9159c0",
   "metadata": {},
   "outputs": [
    {
     "name": "stdout",
     "output_type": "stream",
     "text": [
      "units_residential\n",
      "899.0\n",
      "0.0\n",
      "units_commercial\n",
      "570.0\n",
      "0.0\n",
      "year_sold\n",
      "2022\n",
      "2017\n",
      "years_elapsed\n",
      "2018.0\n",
      "0.0\n",
      "FAR\n",
      "inf\n",
      "0.0\n",
      "log_saleprice\n",
      "21.59769315679663\n",
      "0.6931471805599453\n",
      "latitude\n",
      "40.8780837\n",
      "40.7027763\n",
      "longitude\n",
      "-73.9090484\n",
      "-74.0181175\n",
      "yearalter1\n",
      "2021.0\n",
      "0.0\n",
      "yearalter2\n",
      "2021.0\n",
      "0.0\n",
      "numbldgs\n",
      "39.0\n",
      "0.0\n",
      "numfloors\n",
      "98.0\n",
      "1.0\n",
      "BCR\n",
      "52.95108173076923\n",
      "0.0\n",
      "bin_ltdheight\n",
      "1.0\n",
      "0.0\n",
      "bin_splitzone\n",
      "1.0\n",
      "0.0\n",
      "bin_histdist\n",
      "1.0\n",
      "0.0\n",
      "bin_landmark\n",
      "1.0\n",
      "0.0\n"
     ]
    }
   ],
   "source": [
    "for i in df.columns:\n",
    "    print(i)\n",
    "    print(df[i].max())\n",
    "    print(df[i].min())"
   ]
  },
  {
   "cell_type": "code",
   "execution_count": null,
   "id": "9ca23ae7",
   "metadata": {},
   "outputs": [],
   "source": []
  }
 ],
 "metadata": {
  "kernelspec": {
   "display_name": "Python 3 (ipykernel)",
   "language": "python",
   "name": "python3"
  },
  "language_info": {
   "codemirror_mode": {
    "name": "ipython",
    "version": 3
   },
   "file_extension": ".py",
   "mimetype": "text/x-python",
   "name": "python",
   "nbconvert_exporter": "python",
   "pygments_lexer": "ipython3",
   "version": "3.9.12"
  }
 },
 "nbformat": 4,
 "nbformat_minor": 5
}
