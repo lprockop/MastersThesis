{
 "cells": [
  {
   "cell_type": "markdown",
   "id": "757d15c5",
   "metadata": {},
   "source": [
    "# Import modules"
   ]
  },
  {
   "cell_type": "code",
   "execution_count": 11,
   "id": "4c5cf1af",
   "metadata": {},
   "outputs": [],
   "source": [
    "#import modules\n",
    "import pandas as pd\n",
    "import numpy as np\n",
    "import matplotlib.pyplot as plt\n",
    "import datetime\n",
    "import warnings\n",
    "warnings.filterwarnings(\"ignore\")"
   ]
  },
  {
   "cell_type": "markdown",
   "id": "5442f98a",
   "metadata": {},
   "source": [
    "# Sales"
   ]
  },
  {
   "cell_type": "markdown",
   "id": "cc3a2e40",
   "metadata": {},
   "source": [
    "## Import"
   ]
  },
  {
   "cell_type": "code",
   "execution_count": 12,
   "id": "cfa73db0",
   "metadata": {},
   "outputs": [
    {
     "name": "stdout",
     "output_type": "stream",
     "text": [
      "(110226, 21)\n"
     ]
    },
    {
     "data": {
      "text/plain": [
       "Index(['BOROUGH', 'NEIGHBORHOOD', 'BUILDING CLASS CATEGORY',\n",
       "       'TAX CLASS AT PRESENT', 'BLOCK', 'LOT', 'EASE-MENT',\n",
       "       'BUILDING CLASS AT PRESENT', 'ADDRESS', 'APARTMENT NUMBER', 'ZIP CODE',\n",
       "       'RESIDENTIAL\\nUNITS', 'COMMERCIAL\\nUNITS', 'TOTAL \\nUNITS',\n",
       "       'LAND \\nSQUARE FEET', 'GROSS \\nSQUARE FEET', 'YEAR BUILT',\n",
       "       'TAX CLASS AT TIME OF SALE', 'BUILDING CLASS\\nAT TIME OF SALE',\n",
       "       'SALE PRICE', 'SALE DATE'],\n",
       "      dtype='object', name=0)"
      ]
     },
     "execution_count": 12,
     "metadata": {},
     "output_type": "execute_result"
    }
   ],
   "source": [
    "import pandas as pd\n",
    "import numpy as np\n",
    "\n",
    "#read in sales data, already subsetted to include Manhattan only\n",
    "sales17 = pd.read_csv(\"INPUT_nycod/2017_manhattan.csv\", skiprows=5, header=None).dropna(how='all')\n",
    "sales18 = pd.read_csv(\"INPUT_nycod/2018_manhattan.csv\", skiprows=5, header=None).dropna(how='all')\n",
    "sales19 = pd.read_csv(\"INPUT_nycod/2019_manhattan.csv\", skiprows=5, header=None).dropna(how='all')\n",
    "sales20 = pd.read_csv(\"INPUT_nycod/2020_manhattan.csv\", skiprows=7, header=None).dropna(how='all')\n",
    "sales21 = pd.read_csv(\"INPUT_nycod/2021_manhattan.csv\", skiprows=7, header=None).dropna(how='all')\n",
    "sales22 = pd.read_csv(\"INPUT_nycod/rollingsales_manhattan.csv\", skiprows=1, header=None).dropna(how='all')\n",
    "\n",
    "#concatenate all dfs, check shape\n",
    "allsales = pd.concat((sales17, sales18, sales19, sales20, sales21, sales22), axis=0)\n",
    "allsales = allsales.iloc[:,0:21]\n",
    "print(allsales.shape)\n",
    "\n",
    "#add labels\n",
    "labels = pd.DataFrame(pd.read_csv(\"INPUT_nycod/2021_manhattan.csv\", header=6).columns).T\n",
    "allsales = pd.concat((labels, allsales), axis=0)\n",
    "allsales.columns = allsales.iloc[0] \n",
    "sales = allsales[1:]\n",
    "sales.columns"
   ]
  },
  {
   "cell_type": "markdown",
   "id": "94d867ac",
   "metadata": {},
   "source": [
    "## Select cols for subsetting"
   ]
  },
  {
   "cell_type": "code",
   "execution_count": 13,
   "id": "c539561a",
   "metadata": {},
   "outputs": [
    {
     "data": {
      "text/plain": [
       "(110226, 10)"
      ]
     },
     "execution_count": 13,
     "metadata": {},
     "output_type": "execute_result"
    }
   ],
   "source": [
    "sales = sales[['BLOCK',\n",
    "                'LOT',\n",
    "                'ADDRESS',\n",
    "                'RESIDENTIAL\\nUNITS',\n",
    "                'COMMERCIAL\\nUNITS',\n",
    "                'LAND \\nSQUARE FEET',\n",
    "                'GROSS \\nSQUARE FEET',\n",
    "                'YEAR BUILT',\n",
    "                'SALE DATE',\n",
    "                'SALE PRICE']]\n",
    "\n",
    "#rename columns for interpretability\n",
    "col_mapper = {'RESIDENTIAL\\nUNITS':'units_residential',\n",
    "             'COMMERCIAL\\nUNITS':'units_commercial',\n",
    "             'BLOCK': 'block_sales',\n",
    "             'LOT': 'lot_sales',\n",
    "             'ADDRESS': 'address_sales'}\n",
    "sales = sales.rename(mapper=col_mapper, axis=1)\n",
    "\n",
    "sales.shape"
   ]
  },
  {
   "cell_type": "markdown",
   "id": "77fa3212",
   "metadata": {},
   "source": [
    "## Dtype handling"
   ]
  },
  {
   "cell_type": "code",
   "execution_count": 14,
   "id": "a0bd5831",
   "metadata": {},
   "outputs": [
    {
     "data": {
      "text/plain": [
       "0\n",
       "block_sales            object\n",
       "lot_sales              object\n",
       "address_sales          object\n",
       "units_residential      object\n",
       "units_commercial       object\n",
       "LAND \\nSQUARE FEET     object\n",
       "GROSS \\nSQUARE FEET    object\n",
       "YEAR BUILT             object\n",
       "SALE DATE              object\n",
       "SALE PRICE             object\n",
       "dtype: object"
      ]
     },
     "execution_count": 14,
     "metadata": {},
     "output_type": "execute_result"
    }
   ],
   "source": [
    "sales.dtypes"
   ]
  },
  {
   "cell_type": "code",
   "execution_count": 15,
   "id": "8897c639",
   "metadata": {},
   "outputs": [
    {
     "data": {
      "text/plain": [
       "Index(['block_sales', 'lot_sales', 'address_sales', 'units_residential',\n",
       "       'units_commercial', 'saleprice', 'year_sold', 'years_elapsed', 'FAR'],\n",
       "      dtype='object', name=0)"
      ]
     },
     "execution_count": 15,
     "metadata": {},
     "output_type": "execute_result"
    }
   ],
   "source": [
    "#clean sale price\n",
    "prices = []\n",
    "for i in sales['SALE PRICE']:\n",
    "    prices.append(float(i.replace(\",\", \"\").replace(\"'\", \"\").replace(\"$\", \"\")))\n",
    "sales['saleprice'] = prices\n",
    "\n",
    "#clean sale date -> year sold, years elapsed\n",
    "import datetime\n",
    "dates = []\n",
    "for i in sales['SALE DATE']:\n",
    "    dates.append(datetime.datetime.strptime(i, \"%m/%d/%Y\"))\n",
    "sales['saledate'] = dates\n",
    "years = []\n",
    "for i in sales['SALE DATE']:\n",
    "    years.append(int(i[-4:]))\n",
    "sales['year_sold'] = years\n",
    "sales['years_elapsed'] = sales.year_sold - sales['YEAR BUILT']\n",
    "\n",
    "#calculate FAR\n",
    "gross_sqft = []\n",
    "for i in sales['GROSS \\nSQUARE FEET']:\n",
    "    try:\n",
    "        gross_sqft.append(int(i.replace(\",\", \"\").replace(\"'\", \"\").replace(\"-\", \"\").replace(\" \", \"\")))\n",
    "    except:\n",
    "        gross_sqft.append(0)\n",
    "sales['gross_sqft'] = gross_sqft\n",
    "land_sqft = []\n",
    "for i in sales['LAND \\nSQUARE FEET']:\n",
    "    try:\n",
    "        land_sqft.append(int(i.replace(\",\", \"\").replace(\"'\", \"\").replace(\"-\", \"\").replace(\" \", \"\")))\n",
    "    except:\n",
    "        land_sqft.append(0)\n",
    "sales['land_sqft'] = land_sqft\n",
    "sales['FAR'] = sales['gross_sqft'] / sales['land_sqft']\n",
    "\n",
    "#change dtypes\n",
    "sales.block_sales = sales.block_sales.astype(np.int64)\n",
    "sales.lot_sales = sales.lot_sales.astype(np.int64)\n",
    "sales.units_commercial = pd.to_numeric(sales.units_commercial.replace(',',''), errors='coerce')\n",
    "sales.units_residential = pd.to_numeric(sales.units_residential.replace(',',''), errors='coerce')\n",
    "\n",
    "#drop columns only used for calc\n",
    "sales = sales.drop(columns=['SALE PRICE',\n",
    "                           'YEAR BUILT',\n",
    "                           'SALE DATE',\n",
    "                           'GROSS \\nSQUARE FEET',\n",
    "                           'LAND \\nSQUARE FEET',\n",
    "                           'gross_sqft',\n",
    "                           'land_sqft',\n",
    "                           'saledate'])\n",
    "sales.columns"
   ]
  },
  {
   "cell_type": "markdown",
   "id": "4d81c7c0",
   "metadata": {},
   "source": [
    "## Visualize rows to be dropped: sale price == 0, res units == NaN"
   ]
  },
  {
   "cell_type": "code",
   "execution_count": 16,
   "id": "3cec048b",
   "metadata": {},
   "outputs": [
    {
     "name": "stdout",
     "output_type": "stream",
     "text": [
      "total observations: 110226\n",
      "non-sale transfers (sale price 0): 21787\n",
      "sales (sale price > 0): 88439\n"
     ]
    },
    {
     "data": {
      "image/png": "[encoded data removed]",
      "text/plain": [
       "<Figure size 432x288 with 1 Axes>"
      ]
     },
     "metadata": {
      "needs_background": "light"
     },
     "output_type": "display_data"
    }
   ],
   "source": [
    "#FOR VIZ ONLY\n",
    "#missing sale price\n",
    "print(\"total observations: {}\".format(len(sales)))\n",
    "print(\"non-sale transfers (sale price 0): {}\".format(len(sales[sales['saleprice'] == 0])))\n",
    "print(\"sales (sale price > 0): {}\".format(len(sales[sales['saleprice'] > 0])))\n",
    "\n",
    "import matplotlib.pyplot as plt\n",
    "plt.hist(sales[sales.saleprice > 0].year_sold, alpha=0.5, color='lightblue', label='Sales', bins=6)\n",
    "plt.hist(sales[sales.saleprice == 0].year_sold, alpha=0.5, color='darkblue', label='Non-sale transfers', bins=6)\n",
    "plt.legend()\n",
    "plt.title('Frequency of property sales vs. non-sale transfers')\n",
    "plt.xlabel('Transaction year')\n",
    "plt.ylabel('Number of transactions')\n",
    "plt.savefig('OUTPUT_visualizations/1.Sales vs. non-sale transfers.png')\n",
    "plt.show()"
   ]
  },
  {
   "cell_type": "code",
   "execution_count": 17,
   "id": "f6dd15e8",
   "metadata": {},
   "outputs": [],
   "source": [
    "#SUBSET DATA\n",
    "sales = sales[sales['saleprice'] > 1]\n",
    "\n",
    "#after removing zeros\n",
    "sales['log_saleprice'] = np.log(sales.saleprice)\n",
    "sales = sales.drop(columns=['saleprice'])"
   ]
  },
  {
   "cell_type": "code",
   "execution_count": 18,
   "id": "211be12b",
   "metadata": {},
   "outputs": [
    {
     "data": {
      "text/plain": [
       "(88224, 9)"
      ]
     },
     "execution_count": 18,
     "metadata": {},
     "output_type": "execute_result"
    }
   ],
   "source": [
    "sales.shape"
   ]
  },
  {
   "cell_type": "code",
   "execution_count": 19,
   "id": "4c7172db",
   "metadata": {},
   "outputs": [
    {
     "data": {
      "image/png": "[encoded data removed]",
      "text/plain": [
       "<Figure size 576x576 with 1 Axes>"
      ]
     },
     "metadata": {
      "needs_background": "light"
     },
     "output_type": "display_data"
    }
   ],
   "source": [
    "#FOR VIZ ONLY\n",
    "#dates of missing and nonmissing residential units\n",
    "\n",
    "a = sales[sales['units_residential']>=-1]\n",
    "b = sales[sales['units_residential'].isna() == True]\n",
    "\n",
    "plt.figure(figsize=(8,8))\n",
    "plt.hist(a.year_sold+0.1, label='Res units entered (incl. 0)', color='lightgreen', width=0.2)\n",
    "plt.hist(b.year_sold-0.1, label='Res units missing', color='blue', width=0.2)\n",
    "plt.xlabel('Year sold')\n",
    "plt.ylabel('Frequency')\n",
    "plt.legend()\n",
    "plt.savefig('OUTPUT_visualizations/resunitsmissing.png')\n",
    "plt.show()"
   ]
  },
  {
   "cell_type": "markdown",
   "id": "5b0db738",
   "metadata": {},
   "source": [
    "# PLUTO"
   ]
  },
  {
   "cell_type": "markdown",
   "id": "8e58d8ea",
   "metadata": {},
   "source": [
    "## Import"
   ]
  },
  {
   "cell_type": "code",
   "execution_count": 20,
   "id": "6a326572",
   "metadata": {},
   "outputs": [
    {
     "ename": "FileNotFoundError",
     "evalue": "[Errno 2] No such file or directory: 'INPUT_pluto/pluto_22v3_1.csv'",
     "output_type": "error",
     "traceback": [
      "\u001b[1;31m---------------------------------------------------------------------------\u001b[0m",
      "\u001b[1;31mFileNotFoundError\u001b[0m                         Traceback (most recent call last)",
      "Input \u001b[1;32mIn [20]\u001b[0m, in \u001b[0;36m<cell line: 1>\u001b[1;34m()\u001b[0m\n\u001b[1;32m----> 1\u001b[0m pluto \u001b[38;5;241m=\u001b[39m \u001b[43mpd\u001b[49m\u001b[38;5;241;43m.\u001b[39;49m\u001b[43mread_csv\u001b[49m\u001b[43m(\u001b[49m\u001b[38;5;124;43m\"\u001b[39;49m\u001b[38;5;124;43mINPUT_pluto/pluto_22v3_1.csv\u001b[39;49m\u001b[38;5;124;43m\"\u001b[39;49m\u001b[43m,\u001b[49m\u001b[43m \u001b[49m\u001b[43mlow_memory\u001b[49m\u001b[38;5;241;43m=\u001b[39;49m\u001b[38;5;28;43;01mFalse\u001b[39;49;00m\u001b[43m)\u001b[49m\n\u001b[0;32m      2\u001b[0m pluto\u001b[38;5;241m.\u001b[39mcolumns\n",
      "File \u001b[1;32m~\\anaconda3\\lib\\site-packages\\pandas\\util\\_decorators.py:311\u001b[0m, in \u001b[0;36mdeprecate_nonkeyword_arguments.<locals>.decorate.<locals>.wrapper\u001b[1;34m(*args, **kwargs)\u001b[0m\n\u001b[0;32m    305\u001b[0m \u001b[38;5;28;01mif\u001b[39;00m \u001b[38;5;28mlen\u001b[39m(args) \u001b[38;5;241m>\u001b[39m num_allow_args:\n\u001b[0;32m    306\u001b[0m     warnings\u001b[38;5;241m.\u001b[39mwarn(\n\u001b[0;32m    307\u001b[0m         msg\u001b[38;5;241m.\u001b[39mformat(arguments\u001b[38;5;241m=\u001b[39marguments),\n\u001b[0;32m    308\u001b[0m         \u001b[38;5;167;01mFutureWarning\u001b[39;00m,\n\u001b[0;32m    309\u001b[0m         stacklevel\u001b[38;5;241m=\u001b[39mstacklevel,\n\u001b[0;32m    310\u001b[0m     )\n\u001b[1;32m--> 311\u001b[0m \u001b[38;5;28;01mreturn\u001b[39;00m func(\u001b[38;5;241m*\u001b[39margs, \u001b[38;5;241m*\u001b[39m\u001b[38;5;241m*\u001b[39mkwargs)\n",
      "File \u001b[1;32m~\\anaconda3\\lib\\site-packages\\pandas\\io\\parsers\\readers.py:680\u001b[0m, in \u001b[0;36mread_csv\u001b[1;34m(filepath_or_buffer, sep, delimiter, header, names, index_col, usecols, squeeze, prefix, mangle_dupe_cols, dtype, engine, converters, true_values, false_values, skipinitialspace, skiprows, skipfooter, nrows, na_values, keep_default_na, na_filter, verbose, skip_blank_lines, parse_dates, infer_datetime_format, keep_date_col, date_parser, dayfirst, cache_dates, iterator, chunksize, compression, thousands, decimal, lineterminator, quotechar, quoting, doublequote, escapechar, comment, encoding, encoding_errors, dialect, error_bad_lines, warn_bad_lines, on_bad_lines, delim_whitespace, low_memory, memory_map, float_precision, storage_options)\u001b[0m\n\u001b[0;32m    665\u001b[0m kwds_defaults \u001b[38;5;241m=\u001b[39m _refine_defaults_read(\n\u001b[0;32m    666\u001b[0m     dialect,\n\u001b[0;32m    667\u001b[0m     delimiter,\n\u001b[1;32m   (...)\u001b[0m\n\u001b[0;32m    676\u001b[0m     defaults\u001b[38;5;241m=\u001b[39m{\u001b[38;5;124m\"\u001b[39m\u001b[38;5;124mdelimiter\u001b[39m\u001b[38;5;124m\"\u001b[39m: \u001b[38;5;124m\"\u001b[39m\u001b[38;5;124m,\u001b[39m\u001b[38;5;124m\"\u001b[39m},\n\u001b[0;32m    677\u001b[0m )\n\u001b[0;32m    678\u001b[0m kwds\u001b[38;5;241m.\u001b[39mupdate(kwds_defaults)\n\u001b[1;32m--> 680\u001b[0m \u001b[38;5;28;01mreturn\u001b[39;00m \u001b[43m_read\u001b[49m\u001b[43m(\u001b[49m\u001b[43mfilepath_or_buffer\u001b[49m\u001b[43m,\u001b[49m\u001b[43m \u001b[49m\u001b[43mkwds\u001b[49m\u001b[43m)\u001b[49m\n",
      "File \u001b[1;32m~\\anaconda3\\lib\\site-packages\\pandas\\io\\parsers\\readers.py:575\u001b[0m, in \u001b[0;36m_read\u001b[1;34m(filepath_or_buffer, kwds)\u001b[0m\n\u001b[0;32m    572\u001b[0m _validate_names(kwds\u001b[38;5;241m.\u001b[39mget(\u001b[38;5;124m\"\u001b[39m\u001b[38;5;124mnames\u001b[39m\u001b[38;5;124m\"\u001b[39m, \u001b[38;5;28;01mNone\u001b[39;00m))\n\u001b[0;32m    574\u001b[0m \u001b[38;5;66;03m# Create the parser.\u001b[39;00m\n\u001b[1;32m--> 575\u001b[0m parser \u001b[38;5;241m=\u001b[39m TextFileReader(filepath_or_buffer, \u001b[38;5;241m*\u001b[39m\u001b[38;5;241m*\u001b[39mkwds)\n\u001b[0;32m    577\u001b[0m \u001b[38;5;28;01mif\u001b[39;00m chunksize \u001b[38;5;129;01mor\u001b[39;00m iterator:\n\u001b[0;32m    578\u001b[0m     \u001b[38;5;28;01mreturn\u001b[39;00m parser\n",
      "File \u001b[1;32m~\\anaconda3\\lib\\site-packages\\pandas\\io\\parsers\\readers.py:933\u001b[0m, in \u001b[0;36mTextFileReader.__init__\u001b[1;34m(self, f, engine, **kwds)\u001b[0m\n\u001b[0;32m    930\u001b[0m     \u001b[38;5;28mself\u001b[39m\u001b[38;5;241m.\u001b[39moptions[\u001b[38;5;124m\"\u001b[39m\u001b[38;5;124mhas_index_names\u001b[39m\u001b[38;5;124m\"\u001b[39m] \u001b[38;5;241m=\u001b[39m kwds[\u001b[38;5;124m\"\u001b[39m\u001b[38;5;124mhas_index_names\u001b[39m\u001b[38;5;124m\"\u001b[39m]\n\u001b[0;32m    932\u001b[0m \u001b[38;5;28mself\u001b[39m\u001b[38;5;241m.\u001b[39mhandles: IOHandles \u001b[38;5;241m|\u001b[39m \u001b[38;5;28;01mNone\u001b[39;00m \u001b[38;5;241m=\u001b[39m \u001b[38;5;28;01mNone\u001b[39;00m\n\u001b[1;32m--> 933\u001b[0m \u001b[38;5;28mself\u001b[39m\u001b[38;5;241m.\u001b[39m_engine \u001b[38;5;241m=\u001b[39m \u001b[38;5;28;43mself\u001b[39;49m\u001b[38;5;241;43m.\u001b[39;49m\u001b[43m_make_engine\u001b[49m\u001b[43m(\u001b[49m\u001b[43mf\u001b[49m\u001b[43m,\u001b[49m\u001b[43m \u001b[49m\u001b[38;5;28;43mself\u001b[39;49m\u001b[38;5;241;43m.\u001b[39;49m\u001b[43mengine\u001b[49m\u001b[43m)\u001b[49m\n",
      "File \u001b[1;32m~\\anaconda3\\lib\\site-packages\\pandas\\io\\parsers\\readers.py:1217\u001b[0m, in \u001b[0;36mTextFileReader._make_engine\u001b[1;34m(self, f, engine)\u001b[0m\n\u001b[0;32m   1213\u001b[0m     mode \u001b[38;5;241m=\u001b[39m \u001b[38;5;124m\"\u001b[39m\u001b[38;5;124mrb\u001b[39m\u001b[38;5;124m\"\u001b[39m\n\u001b[0;32m   1214\u001b[0m \u001b[38;5;66;03m# error: No overload variant of \"get_handle\" matches argument types\u001b[39;00m\n\u001b[0;32m   1215\u001b[0m \u001b[38;5;66;03m# \"Union[str, PathLike[str], ReadCsvBuffer[bytes], ReadCsvBuffer[str]]\"\u001b[39;00m\n\u001b[0;32m   1216\u001b[0m \u001b[38;5;66;03m# , \"str\", \"bool\", \"Any\", \"Any\", \"Any\", \"Any\", \"Any\"\u001b[39;00m\n\u001b[1;32m-> 1217\u001b[0m \u001b[38;5;28mself\u001b[39m\u001b[38;5;241m.\u001b[39mhandles \u001b[38;5;241m=\u001b[39m \u001b[43mget_handle\u001b[49m\u001b[43m(\u001b[49m\u001b[43m  \u001b[49m\u001b[38;5;66;43;03m# type: ignore[call-overload]\u001b[39;49;00m\n\u001b[0;32m   1218\u001b[0m \u001b[43m    \u001b[49m\u001b[43mf\u001b[49m\u001b[43m,\u001b[49m\n\u001b[0;32m   1219\u001b[0m \u001b[43m    \u001b[49m\u001b[43mmode\u001b[49m\u001b[43m,\u001b[49m\n\u001b[0;32m   1220\u001b[0m \u001b[43m    \u001b[49m\u001b[43mencoding\u001b[49m\u001b[38;5;241;43m=\u001b[39;49m\u001b[38;5;28;43mself\u001b[39;49m\u001b[38;5;241;43m.\u001b[39;49m\u001b[43moptions\u001b[49m\u001b[38;5;241;43m.\u001b[39;49m\u001b[43mget\u001b[49m\u001b[43m(\u001b[49m\u001b[38;5;124;43m\"\u001b[39;49m\u001b[38;5;124;43mencoding\u001b[39;49m\u001b[38;5;124;43m\"\u001b[39;49m\u001b[43m,\u001b[49m\u001b[43m \u001b[49m\u001b[38;5;28;43;01mNone\u001b[39;49;00m\u001b[43m)\u001b[49m\u001b[43m,\u001b[49m\n\u001b[0;32m   1221\u001b[0m \u001b[43m    \u001b[49m\u001b[43mcompression\u001b[49m\u001b[38;5;241;43m=\u001b[39;49m\u001b[38;5;28;43mself\u001b[39;49m\u001b[38;5;241;43m.\u001b[39;49m\u001b[43moptions\u001b[49m\u001b[38;5;241;43m.\u001b[39;49m\u001b[43mget\u001b[49m\u001b[43m(\u001b[49m\u001b[38;5;124;43m\"\u001b[39;49m\u001b[38;5;124;43mcompression\u001b[39;49m\u001b[38;5;124;43m\"\u001b[39;49m\u001b[43m,\u001b[49m\u001b[43m \u001b[49m\u001b[38;5;28;43;01mNone\u001b[39;49;00m\u001b[43m)\u001b[49m\u001b[43m,\u001b[49m\n\u001b[0;32m   1222\u001b[0m \u001b[43m    \u001b[49m\u001b[43mmemory_map\u001b[49m\u001b[38;5;241;43m=\u001b[39;49m\u001b[38;5;28;43mself\u001b[39;49m\u001b[38;5;241;43m.\u001b[39;49m\u001b[43moptions\u001b[49m\u001b[38;5;241;43m.\u001b[39;49m\u001b[43mget\u001b[49m\u001b[43m(\u001b[49m\u001b[38;5;124;43m\"\u001b[39;49m\u001b[38;5;124;43mmemory_map\u001b[39;49m\u001b[38;5;124;43m\"\u001b[39;49m\u001b[43m,\u001b[49m\u001b[43m \u001b[49m\u001b[38;5;28;43;01mFalse\u001b[39;49;00m\u001b[43m)\u001b[49m\u001b[43m,\u001b[49m\n\u001b[0;32m   1223\u001b[0m \u001b[43m    \u001b[49m\u001b[43mis_text\u001b[49m\u001b[38;5;241;43m=\u001b[39;49m\u001b[43mis_text\u001b[49m\u001b[43m,\u001b[49m\n\u001b[0;32m   1224\u001b[0m \u001b[43m    \u001b[49m\u001b[43merrors\u001b[49m\u001b[38;5;241;43m=\u001b[39;49m\u001b[38;5;28;43mself\u001b[39;49m\u001b[38;5;241;43m.\u001b[39;49m\u001b[43moptions\u001b[49m\u001b[38;5;241;43m.\u001b[39;49m\u001b[43mget\u001b[49m\u001b[43m(\u001b[49m\u001b[38;5;124;43m\"\u001b[39;49m\u001b[38;5;124;43mencoding_errors\u001b[39;49m\u001b[38;5;124;43m\"\u001b[39;49m\u001b[43m,\u001b[49m\u001b[43m \u001b[49m\u001b[38;5;124;43m\"\u001b[39;49m\u001b[38;5;124;43mstrict\u001b[39;49m\u001b[38;5;124;43m\"\u001b[39;49m\u001b[43m)\u001b[49m\u001b[43m,\u001b[49m\n\u001b[0;32m   1225\u001b[0m \u001b[43m    \u001b[49m\u001b[43mstorage_options\u001b[49m\u001b[38;5;241;43m=\u001b[39;49m\u001b[38;5;28;43mself\u001b[39;49m\u001b[38;5;241;43m.\u001b[39;49m\u001b[43moptions\u001b[49m\u001b[38;5;241;43m.\u001b[39;49m\u001b[43mget\u001b[49m\u001b[43m(\u001b[49m\u001b[38;5;124;43m\"\u001b[39;49m\u001b[38;5;124;43mstorage_options\u001b[39;49m\u001b[38;5;124;43m\"\u001b[39;49m\u001b[43m,\u001b[49m\u001b[43m \u001b[49m\u001b[38;5;28;43;01mNone\u001b[39;49;00m\u001b[43m)\u001b[49m\u001b[43m,\u001b[49m\n\u001b[0;32m   1226\u001b[0m \u001b[43m\u001b[49m\u001b[43m)\u001b[49m\n\u001b[0;32m   1227\u001b[0m \u001b[38;5;28;01massert\u001b[39;00m \u001b[38;5;28mself\u001b[39m\u001b[38;5;241m.\u001b[39mhandles \u001b[38;5;129;01mis\u001b[39;00m \u001b[38;5;129;01mnot\u001b[39;00m \u001b[38;5;28;01mNone\u001b[39;00m\n\u001b[0;32m   1228\u001b[0m f \u001b[38;5;241m=\u001b[39m \u001b[38;5;28mself\u001b[39m\u001b[38;5;241m.\u001b[39mhandles\u001b[38;5;241m.\u001b[39mhandle\n",
      "File \u001b[1;32m~\\anaconda3\\lib\\site-packages\\pandas\\io\\common.py:789\u001b[0m, in \u001b[0;36mget_handle\u001b[1;34m(path_or_buf, mode, encoding, compression, memory_map, is_text, errors, storage_options)\u001b[0m\n\u001b[0;32m    784\u001b[0m \u001b[38;5;28;01melif\u001b[39;00m \u001b[38;5;28misinstance\u001b[39m(handle, \u001b[38;5;28mstr\u001b[39m):\n\u001b[0;32m    785\u001b[0m     \u001b[38;5;66;03m# Check whether the filename is to be opened in binary mode.\u001b[39;00m\n\u001b[0;32m    786\u001b[0m     \u001b[38;5;66;03m# Binary mode does not support 'encoding' and 'newline'.\u001b[39;00m\n\u001b[0;32m    787\u001b[0m     \u001b[38;5;28;01mif\u001b[39;00m ioargs\u001b[38;5;241m.\u001b[39mencoding \u001b[38;5;129;01mand\u001b[39;00m \u001b[38;5;124m\"\u001b[39m\u001b[38;5;124mb\u001b[39m\u001b[38;5;124m\"\u001b[39m \u001b[38;5;129;01mnot\u001b[39;00m \u001b[38;5;129;01min\u001b[39;00m ioargs\u001b[38;5;241m.\u001b[39mmode:\n\u001b[0;32m    788\u001b[0m         \u001b[38;5;66;03m# Encoding\u001b[39;00m\n\u001b[1;32m--> 789\u001b[0m         handle \u001b[38;5;241m=\u001b[39m \u001b[38;5;28;43mopen\u001b[39;49m\u001b[43m(\u001b[49m\n\u001b[0;32m    790\u001b[0m \u001b[43m            \u001b[49m\u001b[43mhandle\u001b[49m\u001b[43m,\u001b[49m\n\u001b[0;32m    791\u001b[0m \u001b[43m            \u001b[49m\u001b[43mioargs\u001b[49m\u001b[38;5;241;43m.\u001b[39;49m\u001b[43mmode\u001b[49m\u001b[43m,\u001b[49m\n\u001b[0;32m    792\u001b[0m \u001b[43m            \u001b[49m\u001b[43mencoding\u001b[49m\u001b[38;5;241;43m=\u001b[39;49m\u001b[43mioargs\u001b[49m\u001b[38;5;241;43m.\u001b[39;49m\u001b[43mencoding\u001b[49m\u001b[43m,\u001b[49m\n\u001b[0;32m    793\u001b[0m \u001b[43m            \u001b[49m\u001b[43merrors\u001b[49m\u001b[38;5;241;43m=\u001b[39;49m\u001b[43merrors\u001b[49m\u001b[43m,\u001b[49m\n\u001b[0;32m    794\u001b[0m \u001b[43m            \u001b[49m\u001b[43mnewline\u001b[49m\u001b[38;5;241;43m=\u001b[39;49m\u001b[38;5;124;43m\"\u001b[39;49m\u001b[38;5;124;43m\"\u001b[39;49m\u001b[43m,\u001b[49m\n\u001b[0;32m    795\u001b[0m \u001b[43m        \u001b[49m\u001b[43m)\u001b[49m\n\u001b[0;32m    796\u001b[0m     \u001b[38;5;28;01melse\u001b[39;00m:\n\u001b[0;32m    797\u001b[0m         \u001b[38;5;66;03m# Binary mode\u001b[39;00m\n\u001b[0;32m    798\u001b[0m         handle \u001b[38;5;241m=\u001b[39m \u001b[38;5;28mopen\u001b[39m(handle, ioargs\u001b[38;5;241m.\u001b[39mmode)\n",
      "\u001b[1;31mFileNotFoundError\u001b[0m: [Errno 2] No such file or directory: 'INPUT_pluto/pluto_22v3_1.csv'"
     ]
    }
   ],
   "source": [
    "pluto = pd.read_csv(\"INPUT_pluto/pluto_22v3_1.csv\", low_memory=False)\n",
    "pluto.columns"
   ]
  },
  {
   "cell_type": "markdown",
   "id": "73b5a77f",
   "metadata": {},
   "source": [
    "## Select cols for subsetting"
   ]
  },
  {
   "cell_type": "code",
   "execution_count": null,
   "id": "4b4a3d74",
   "metadata": {},
   "outputs": [],
   "source": [
    "#subset to include Manhattan only\n",
    "pluto = pluto[pluto['borough']=='MN']\n",
    "pluto = pluto[['block',\n",
    "              'lot',\n",
    "               'address',\n",
    "               'ltdheight',\n",
    "              'splitzone',\n",
    "              'histdist',\n",
    "              'landmark',\n",
    "              'bldgarea',\n",
    "              'lotarea',\n",
    "              'latitude',\n",
    "              'longitude',\n",
    "              'yearalter1',\n",
    "              'yearalter2',\n",
    "              'numbldgs',\n",
    "              'numfloors']]\n",
    "\n",
    "#rename columns for interpretability\n",
    "col_mapper = {'block': 'block_pluto',\n",
    "             'lot': 'lot_pluto',\n",
    "             'address': 'address_pluto'}\n",
    "pluto = pluto.rename(mapper=col_mapper, axis=1)"
   ]
  },
  {
   "cell_type": "code",
   "execution_count": null,
   "id": "56bddfc6",
   "metadata": {},
   "outputs": [],
   "source": [
    "pluto.shape"
   ]
  },
  {
   "cell_type": "markdown",
   "id": "95d75a2a",
   "metadata": {},
   "source": [
    "## Dtype handling"
   ]
  },
  {
   "cell_type": "code",
   "execution_count": null,
   "id": "748fda6f",
   "metadata": {},
   "outputs": [],
   "source": [
    "#create BCR variable\n",
    "pluto['BCR'] = pluto['bldgarea'] / pluto['lotarea']\n",
    "\n",
    "#create binary variables\n",
    "bin_cols = ['ltdheight', 'splitzone', 'histdist', 'landmark']\n",
    "pluto['bin_ltdheight'] = abs(1-(pluto.ltdheight.isna()))\n",
    "pluto['bin_splitzone'] = abs(1-(pluto.splitzone.isna()))\n",
    "pluto['bin_histdist'] = abs(1-(pluto.histdist.isna()))\n",
    "pluto['bin_landmark'] = abs(1-(pluto.landmark.isna()))\n",
    "\n",
    "#drop cols only used for calc\n",
    "pluto = pluto.drop(columns=['bldgarea',\n",
    "                           'lotarea',\n",
    "                           'ltdheight',\n",
    "                           'histdist',\n",
    "                           'landmark',\n",
    "                           'splitzone'])\n",
    "pluto.columns"
   ]
  },
  {
   "cell_type": "markdown",
   "id": "b6c403c4",
   "metadata": {},
   "source": [
    "# Merge sales and pluto"
   ]
  },
  {
   "cell_type": "code",
   "execution_count": null,
   "id": "e25cce46",
   "metadata": {},
   "outputs": [],
   "source": [
    "pluto = pluto[pluto.block_pluto < pluto.block_pluto.max()]"
   ]
  },
  {
   "cell_type": "code",
   "execution_count": null,
   "id": "018f0c36",
   "metadata": {},
   "outputs": [],
   "source": [
    "# Merge NYCOD and PLUTO\n",
    "import matplotlib.pyplot as plt\n",
    "plt.figure(figsize=(8, 6))\n",
    "plt.scatter(pluto.block_pluto, pluto.lot_pluto, label='BBL-PLUTO', color='red')\n",
    "plt.scatter(sales.block_sales, sales.lot_sales, label='BBL-Sales', color='yellow', alpha=0.1, marker='x')\n",
    "plt.xlabel('Block code')\n",
    "plt.ylabel('Lot code')\n",
    "plt.title('Block-Lot codes included in PLUTO')\n",
    "plt.legend()\n",
    "plt.savefig('OUTPUT_visualizations/3.Borough-Lot coverage.png')\n",
    "plt.show()"
   ]
  },
  {
   "cell_type": "code",
   "execution_count": null,
   "id": "f57b76e3",
   "metadata": {},
   "outputs": [],
   "source": [
    "# join based on BBL\n",
    "df_1 = sales.merge(pluto, how='left', left_on=['block_sales', 'lot_sales'], right_on=['block_pluto', 'lot_pluto'])\n",
    "\n",
    "#join based on address\n",
    "#isolate transactions that were not matched before\n",
    "missed = df_1[df_1['latitude'].isna() == True].iloc[:,:10]\n",
    "#clean address text\n",
    "addresses = []\n",
    "for i in missed.address_sales:\n",
    "    addresses.append(i.split(',')[0])\n",
    "missed['address_clean'] = addresses\n",
    "#merge on address\n",
    "df_2 = missed.merge(pluto, how='left', left_on=['address_clean'], right_on=['address_pluto'])\n",
    "\n",
    "#save out unmatched cells for later\n",
    "unmatched_df = df_2[df_2.latitude.isna() == True].drop(columns=['address_clean', 'address_sales', 'address_pluto'])\n",
    "\n",
    "#quantify\n",
    "df_1 = df_1[df_1.latitude.isna() == False].drop(columns=['address_sales', 'address_pluto'])\n",
    "df_2 = df_2[df_2.latitude.isna() == False].drop(columns=['address_clean', 'address_sales', 'address_pluto'])\n",
    "\n",
    "len_all = len(sales)\n",
    "len_bbl = len(df_1)\n",
    "len_add = len(df_2)\n",
    "\n",
    "print('{} total sales'.format(len_all))\n",
    "print('{} matched on BBL'.format(len_bbl))\n",
    "print('{} matched on address'.format(len_add))\n",
    "print('{} unmatched ({:.3f}% of total)'.format((len_all - len_bbl - len_add), (100*(len_all - len_bbl - len_add)/len_all)))\n",
    "\n",
    "#final df\n",
    "df = pd.concat((df_1, df_2), axis=0)\n",
    "df = df.drop(columns=['block_sales', 'lot_sales', 'block_pluto', 'lot_pluto'])\n",
    "df.columns.sort_values()\n",
    "#drop empty\n",
    "df = df.dropna(how='all', axis=1)\n",
    "df = df.dropna(how='all', axis=0)\n",
    "print('shape of final df: {}'.format(df.shape))\n",
    "\n",
    "df.to_csv('OUTPUT_cleandata/df_clean.csv')"
   ]
  },
  {
   "cell_type": "code",
   "execution_count": null,
   "id": "ce057a2e",
   "metadata": {},
   "outputs": [],
   "source": [
    "df = df.drop(columns=['block_pluto_x', 'block_pluto_y'])"
   ]
  },
  {
   "cell_type": "code",
   "execution_count": null,
   "id": "40dc6898",
   "metadata": {},
   "outputs": [],
   "source": [
    "unmatched_df = unmatched_df.drop(columns=['block_pluto_x', 'block_pluto_y', 'block_sales', 'lot_sales'])"
   ]
  },
  {
   "cell_type": "code",
   "execution_count": null,
   "id": "9706d4fe",
   "metadata": {},
   "outputs": [],
   "source": [
    "unmatched_df = unmatched_df.drop(columns=['block_sales', 'lot_sales'])"
   ]
  },
  {
   "cell_type": "code",
   "execution_count": null,
   "id": "bda39e50",
   "metadata": {},
   "outputs": [],
   "source": [
    "unmatched_df = unmatched_df.drop(columns=['lot_pluto'])"
   ]
  },
  {
   "cell_type": "code",
   "execution_count": null,
   "id": "c6cf6aca",
   "metadata": {},
   "outputs": [],
   "source": [
    "unmatched_df.columns"
   ]
  },
  {
   "cell_type": "code",
   "execution_count": null,
   "id": "8d64af78",
   "metadata": {},
   "outputs": [],
   "source": [
    "len(unmatched_df.columns)"
   ]
  },
  {
   "cell_type": "code",
   "execution_count": null,
   "id": "299a2fa7",
   "metadata": {},
   "outputs": [],
   "source": [
    "df.describe().T['mean']"
   ]
  },
  {
   "cell_type": "code",
   "execution_count": null,
   "id": "746e329e",
   "metadata": {},
   "outputs": [],
   "source": [
    "#compare df and unmatched_df\n",
    "\n",
    "num_cols = ['units_residential', 'units_commercial', 'year_sold',\n",
    "       'FAR', 'log_saleprice', 'latitude', 'longitude', 'yearalter1',\n",
    "       'yearalter2', 'numbldgs', 'numfloors', 'BCR', 'bin_ltdheight',\n",
    "       'bin_splitzone', 'bin_histdist', 'bin_landmark']\n",
    "\n",
    "plt.figure(figsize=(8, 6))\n",
    "plt.scatter(num_cols, df.describe().T['mean'], label='Geocoded', color='blue', s=len(df)/1000, alpha=0.6)\n",
    "plt.scatter(num_cols, unmatched_df.describe().T['mean'], label='Not geocoded', color='red', s=len(unmatched_df)/1000, alpha=0.6)\n",
    "plt.xticks(rotation=90)\n",
    "plt.xlabel('Dependent variable')\n",
    "plt.ylabel('Group mean')\n",
    "plt.legend()\n",
    "plt.grid()\n",
    "plt.title('Difference in mean characteristics geocoded vs. non-geocoded sales')\n",
    "plt.savefig('OUTPUT_visualizations/nongeocoded.png')\n",
    "plt.show()"
   ]
  },
  {
   "cell_type": "code",
   "execution_count": null,
   "id": "7caff0ac",
   "metadata": {},
   "outputs": [],
   "source": [
    "print(df.shape)\n",
    "df.columns"
   ]
  },
  {
   "cell_type": "markdown",
   "id": "47c7815f",
   "metadata": {},
   "source": [
    "# Merge in distance datasets"
   ]
  },
  {
   "cell_type": "code",
   "execution_count": null,
   "id": "ae13d47c",
   "metadata": {},
   "outputs": [],
   "source": [
    "import pandas as pd\n",
    "\n",
    "hospital = pd.read_csv('INPUT_distances/hospital.csv')\n",
    "park = pd.read_csv('INPUT_distances/park.csv')\n",
    "school = pd.read_csv('INPUT_distances/public_school.csv')\n",
    "subway = pd.read_csv('INPUT_distances/subway.csv')\n",
    "housing = pd.read_csv('INPUT_distances/affordable_housing.csv')\n",
    "college = pd.read_csv('INPUT_distances/college_university.csv')\n",
    "museum = pd.read_csv('INPUT_distances/museum.csv')\n",
    "\n",
    "df['dist_park'] = park.distance.values[:len(df)]\n",
    "df['dist_subway'] = subway.distance.values[:len(df)]\n",
    "df['dist_hospital'] = hospital.distance.values[:len(df)]\n",
    "df['dist_school'] = school.distance.values[:len(df)]\n",
    "df['dist_housingdev'] = housing.distance.values[:len(df)]\n",
    "df['dist_college'] = college.distance.values[:len(df)]\n",
    "df['dist_museum'] = museum.distance.values[:len(df)]"
   ]
  },
  {
   "cell_type": "code",
   "execution_count": null,
   "id": "046bf81d",
   "metadata": {},
   "outputs": [],
   "source": [
    "#visualize distribution of each \n",
    "\n",
    "import matplotlib.pyplot as plt\n",
    "plt.figure(figsize=(12,8))\n",
    "plt.scatter(df.dist_hospital, df.log_saleprice, color='pink', alpha=0.3, label='Distance to hospital')\n",
    "plt.scatter(df.dist_college, df.log_saleprice, color='purple', alpha=0.3, label='Distance to college or university')\n",
    "plt.scatter(df.dist_museum, df.log_saleprice, color='gray', alpha=0.3, label='Distance to museum')\n",
    "plt.scatter(df.dist_housingdev, df.log_saleprice, color='blue', alpha=0.3, label='Distance to affordable housing')\n",
    "plt.scatter(df.dist_subway, df.log_saleprice, color='orange', alpha=0.3, label='Distance to subway')\n",
    "plt.scatter(df.dist_school, df.log_saleprice, color='yellow', alpha=0.3, label='Distance to school')\n",
    "plt.scatter(df.dist_park, df.log_saleprice, color='green', alpha=0.3, label='Distance to park')\n",
    "plt.xlabel('Distance measure')\n",
    "plt.ylabel('Log of sale price')\n",
    "plt.legend()\n",
    "plt.savefig('OUTPUT_visualizations/distances.png')\n",
    "plt.show()"
   ]
  },
  {
   "cell_type": "code",
   "execution_count": null,
   "id": "3d620400",
   "metadata": {},
   "outputs": [],
   "source": [
    "#check out columns with a lot of missing data\n",
    "cols = pd.DataFrame(df.columns).rename(columns={0:'column_name'})\n",
    "missing = []\n",
    "for i in cols['column_name']:\n",
    "    missing.append(100*df[i].isnull().sum()/len(df[i]))\n",
    "cols['pct_missing'] = missing\n",
    "to_drop = []\n",
    "for i in cols.index:\n",
    "    if cols['pct_missing'][i] > 90:\n",
    "        to_drop.append(cols['column_name'][i])\n",
    "df = df.drop(columns=to_drop)\n",
    "\n",
    "print('Features with > 90% missing data: {} \\n'.format(to_drop))\n",
    "print('Features with any missing data:')\n",
    "display(cols[cols['pct_missing']>0].sort_values('pct_missing', ascending=False))"
   ]
  },
  {
   "cell_type": "code",
   "execution_count": null,
   "id": "cf8ab5e5",
   "metadata": {},
   "outputs": [],
   "source": [
    "df.shape"
   ]
  },
  {
   "cell_type": "code",
   "execution_count": null,
   "id": "11439f76",
   "metadata": {},
   "outputs": [],
   "source": [
    "# plot corr matrix of all vars\n",
    "\n",
    "f = plt.figure(figsize=(14, 8))\n",
    "plt.matshow(df.corr(), fignum=f.number)\n",
    "plt.xticks(range(df.select_dtypes(['number']).shape[1]), df.select_dtypes(['number']).columns, fontsize=10, rotation=90)\n",
    "plt.yticks(range(df.select_dtypes(['number']).shape[1]), df.select_dtypes(['number']).columns, fontsize=10)\n",
    "cb = plt.colorbar()\n",
    "cb.ax.tick_params(labelsize=10)\n",
    "plt.title('Correlation between independent variables')\n",
    "plt.savefig('OUTPUT_visualizations/4.Corr matrix for all vars.png')\n",
    "plt.show()"
   ]
  },
  {
   "cell_type": "code",
   "execution_count": null,
   "id": "06ee58aa",
   "metadata": {},
   "outputs": [],
   "source": [
    "#plot hist of sale prices\n",
    "\n",
    "import matplotlib.pyplot as plt\n",
    "plt.figure(figsize=(10, 6))\n",
    "plt.hist(df['log_saleprice'])\n",
    "plt.xlabel('Ln of sale price')\n",
    "plt.ylabel('Frequency')\n",
    "plt.title('Manhattan real estate sales, 2017-2022')\n",
    "plt.savefig('OUTPUT_visualizations/5.Histogram of ln sale price.png')\n",
    "plt.show()"
   ]
  },
  {
   "cell_type": "code",
   "execution_count": null,
   "id": "3f722a92",
   "metadata": {},
   "outputs": [],
   "source": [
    "df.describe().T.reset_index().sort_values(by='index').rename(columns={'index':'column_name'})"
   ]
  },
  {
   "cell_type": "code",
   "execution_count": null,
   "id": "c562ce4f",
   "metadata": {},
   "outputs": [],
   "source": [
    "df.to_csv('OUTPUT_cleandata/df_dist.csv')"
   ]
  },
  {
   "cell_type": "code",
   "execution_count": null,
   "id": "a8283925",
   "metadata": {},
   "outputs": [],
   "source": [
    "df.describe()"
   ]
  },
  {
   "cell_type": "code",
   "execution_count": null,
   "id": "4a9159c0",
   "metadata": {},
   "outputs": [],
   "source": [
    "for i in df.columns:\n",
    "    print(i)\n",
    "    print(df[i].max())\n",
    "    print(df[i].min())"
   ]
  },
  {
   "cell_type": "code",
   "execution_count": null,
   "id": "9ca23ae7",
   "metadata": {},
   "outputs": [],
   "source": []
  }
 ],
 "metadata": {
  "kernelspec": {
   "display_name": "Python 3 (ipykernel)",
   "language": "python",
   "name": "python3"
  },
  "language_info": {
   "codemirror_mode": {
    "name": "ipython",
    "version": 3
   },
   "file_extension": ".py",
   "mimetype": "text/x-python",
   "name": "python",
   "nbconvert_exporter": "python",
   "pygments_lexer": "ipython3",
   "version": "3.9.12"
  }
 },
 "nbformat": 4,
 "nbformat_minor": 5
}
